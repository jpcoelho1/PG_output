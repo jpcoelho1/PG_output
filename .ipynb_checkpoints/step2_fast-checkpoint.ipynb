{
 "cells": [
  {
   "cell_type": "code",
   "execution_count": 2,
   "metadata": {
    "collapsed": true
   },
   "outputs": [],
   "source": [
    "import pandas as pd\n",
    "\n",
    "#tags\n",
    "ns_tag = 'Normal_Simple_Acc'\n",
    "nn_tag = 'Normal_Nested_Acc'\n",
    "us_tag = 'Unbiased_Simple_Acc'\n",
    "un_tag = 'Unbiased_Nested_Acc'\n",
    "\n",
    "## KNN SCORES\n",
    "\n",
    "knn_scores = pd.Series({ns_tag:0.83105,\n",
    "                        nn_tag:0.819678,\n",
    "                        us_tag:0.575652,\n",
    "                        un_tag:0.55819})"
   ]
  },
  {
   "cell_type": "code",
   "execution_count": 3,
   "metadata": {
    "collapsed": true
   },
   "outputs": [],
   "source": [
    "#RF SCORS\n",
    "rf_scores = pd.Series({ns_tag:0.983058,\n",
    "                        nn_tag:0.980031,\n",
    "                        us_tag:0.840996,\n",
    "                        un_tag:0.810854})"
   ]
  },
  {
   "cell_type": "code",
   "execution_count": 4,
   "metadata": {
    "collapsed": true
   },
   "outputs": [],
   "source": [
    "#SVM_SCORES\n",
    "svm_scores = pd.Series({ns_tag:0.130772,\n",
    "                        nn_tag:0.130399,\n",
    "                        us_tag:0.0332433,\n",
    "                        un_tag:0.0326227})"
   ]
  },
  {
   "cell_type": "code",
   "execution_count": 6,
   "metadata": {},
   "outputs": [
    {
     "data": {
      "text/html": [
       "<div>\n",
       "<style>\n",
       "    .dataframe thead tr:only-child th {\n",
       "        text-align: right;\n",
       "    }\n",
       "\n",
       "    .dataframe thead th {\n",
       "        text-align: left;\n",
       "    }\n",
       "\n",
       "    .dataframe tbody tr th {\n",
       "        vertical-align: top;\n",
       "    }\n",
       "</style>\n",
       "<table border=\"1\" class=\"dataframe\">\n",
       "  <thead>\n",
       "    <tr style=\"text-align: right;\">\n",
       "      <th></th>\n",
       "      <th>Normal_Nested_Acc</th>\n",
       "      <th>Normal_Simple_Acc</th>\n",
       "      <th>Unbiased_Nested_Acc</th>\n",
       "      <th>Unbiased_Simple_Acc</th>\n",
       "    </tr>\n",
       "  </thead>\n",
       "  <tbody>\n",
       "    <tr>\n",
       "      <th>KNN</th>\n",
       "      <td>0.819678</td>\n",
       "      <td>0.831050</td>\n",
       "      <td>0.558190</td>\n",
       "      <td>0.575652</td>\n",
       "    </tr>\n",
       "    <tr>\n",
       "      <th>RandomForest</th>\n",
       "      <td>0.980031</td>\n",
       "      <td>0.983058</td>\n",
       "      <td>0.810854</td>\n",
       "      <td>0.840996</td>\n",
       "    </tr>\n",
       "    <tr>\n",
       "      <th>SVM</th>\n",
       "      <td>0.130399</td>\n",
       "      <td>0.130772</td>\n",
       "      <td>0.032623</td>\n",
       "      <td>0.033243</td>\n",
       "    </tr>\n",
       "  </tbody>\n",
       "</table>\n",
       "</div>"
      ],
      "text/plain": [
       "              Normal_Nested_Acc  Normal_Simple_Acc  Unbiased_Nested_Acc  \\\n",
       "KNN                    0.819678           0.831050             0.558190   \n",
       "RandomForest           0.980031           0.983058             0.810854   \n",
       "SVM                    0.130399           0.130772             0.032623   \n",
       "\n",
       "              Unbiased_Simple_Acc  \n",
       "KNN                      0.575652  \n",
       "RandomForest             0.840996  \n",
       "SVM                      0.033243  "
      ]
     },
     "execution_count": 6,
     "metadata": {},
     "output_type": "execute_result"
    }
   ],
   "source": [
    "step2_df = pd.DataFrame([knn_scores, rf_scores, svm_scores], index=['KNN','RandomForest','SVM'])\n",
    "step2_df"
   ]
  },
  {
   "cell_type": "code",
   "execution_count": null,
   "metadata": {
    "collapsed": true
   },
   "outputs": [],
   "source": []
  }
 ],
 "metadata": {
  "kernelspec": {
   "display_name": "Python [default]",
   "language": "python",
   "name": "python2"
  },
  "language_info": {
   "codemirror_mode": {
    "name": "ipython",
    "version": 2
   },
   "file_extension": ".py",
   "mimetype": "text/x-python",
   "name": "python",
   "nbconvert_exporter": "python",
   "pygments_lexer": "ipython2",
   "version": "2.7.13"
  }
 },
 "nbformat": 4,
 "nbformat_minor": 2
}
