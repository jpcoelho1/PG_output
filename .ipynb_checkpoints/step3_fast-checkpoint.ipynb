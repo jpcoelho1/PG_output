{
 "cells": [
  {
   "cell_type": "code",
   "execution_count": null,
   "metadata": {
    "collapsed": true
   },
   "outputs": [],
   "source": [
    "import pandas as pd\n",
    "\n",
    "#tags\n",
    "nn_tag = 'Normal_Nested_Acc'\n",
    "un_tag = 'Unbiased_Nested_Acc'\n",
    "\n",
    "## KNN SCORES\n",
    "knn_scores = pd.Series({nn_tag:0.947353,\n",
    "                        un_tag:0.805505})"
   ]
  },
  {
   "cell_type": "code",
   "execution_count": null,
   "metadata": {
    "collapsed": true
   },
   "outputs": [],
   "source": [
    "rf_scores = pd.Series({nn_tag:0.980062,\n",
    "                    un_tag:0.810868})"
   ]
  },
  {
   "cell_type": "code",
   "execution_count": null,
   "metadata": {
    "collapsed": true
   },
   "outputs": [],
   "source": [
    "svm_scores = pd.Series({nn_tag:0.937272,\n",
    "                        un_tag:0.727503})\n",
    "step2_df = pd.DataFrame([knn_scores, rf_scores, svm_scores], index=['KNN','RandomForest','SVM'])\n",
    "step2_df"
   ]
  }
 ],
 "metadata": {
  "kernelspec": {
   "display_name": "Python [default]",
   "language": "python",
   "name": "python2"
  },
  "language_info": {
   "codemirror_mode": {
    "name": "ipython",
    "version": 2
   },
   "file_extension": ".py",
   "mimetype": "text/x-python",
   "name": "python",
   "nbconvert_exporter": "python",
   "pygments_lexer": "ipython2",
   "version": "2.7.13"
  }
 },
 "nbformat": 4,
 "nbformat_minor": 2
}
