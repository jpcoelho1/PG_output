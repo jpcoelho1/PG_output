{
 "cells": [
  {
   "cell_type": "code",
   "execution_count": 1,
   "metadata": {
    "collapsed": true
   },
   "outputs": [],
   "source": [
    "# Loading data from steps notebooks\n",
    "%store -r step1_stats_acc_df\n",
    "%store -r step1_stats_f1_df\n",
    "%store -r step2_stats_acc_df\n",
    "%store -r step2_stats_f1_df\n",
    "%store -r step3_stats_acc_df\n",
    "%store -r step3_stats_f1_df"
   ]
  },
  {
   "cell_type": "code",
   "execution_count": 63,
   "metadata": {
    "collapsed": true
   },
   "outputs": [],
   "source": [
    "-"
   ]
  },
  {
   "cell_type": "code",
   "execution_count": 66,
   "metadata": {},
   "outputs": [
    {
     "data": {
      "text/html": [
       "<div>\n",
       "<style>\n",
       "    .dataframe thead tr:only-child th {\n",
       "        text-align: right;\n",
       "    }\n",
       "\n",
       "    .dataframe thead th {\n",
       "        text-align: left;\n",
       "    }\n",
       "\n",
       "    .dataframe tbody tr th {\n",
       "        vertical-align: top;\n",
       "    }\n",
       "</style>\n",
       "<table border=\"1\" class=\"dataframe\">\n",
       "  <thead>\n",
       "    <tr style=\"text-align: right;\">\n",
       "      <th></th>\n",
       "      <th>Step1_Normal_Acc</th>\n",
       "      <th>Step2_Normal_Acc</th>\n",
       "      <th>Step3_Normal_Acc</th>\n",
       "      <th>Step1_Unbiased_Acc</th>\n",
       "      <th>Step2_Unbiased_Acc</th>\n",
       "      <th>Step3_Unbiased_Acc</th>\n",
       "    </tr>\n",
       "  </thead>\n",
       "  <tbody>\n",
       "    <tr>\n",
       "      <th>KNN / Grid_KNN</th>\n",
       "      <td>0.794020</td>\n",
       "      <td>0.819678</td>\n",
       "      <td>0.947353</td>\n",
       "      <td>0.528777</td>\n",
       "      <td>0.558190</td>\n",
       "      <td>0.805505</td>\n",
       "    </tr>\n",
       "    <tr>\n",
       "      <th>RandomForest / Grid_RandomForest</th>\n",
       "      <td>0.972184</td>\n",
       "      <td>0.980031</td>\n",
       "      <td>0.980062</td>\n",
       "      <td>0.808130</td>\n",
       "      <td>0.810854</td>\n",
       "      <td>0.810868</td>\n",
       "    </tr>\n",
       "    <tr>\n",
       "      <th>SVM / Grid_SVM</th>\n",
       "      <td>0.184385</td>\n",
       "      <td>0.130399</td>\n",
       "      <td>0.937272</td>\n",
       "      <td>0.043801</td>\n",
       "      <td>0.032623</td>\n",
       "      <td>0.727503</td>\n",
       "    </tr>\n",
       "  </tbody>\n",
       "</table>\n",
       "</div>"
      ],
      "text/plain": [
       "                                  Step1_Normal_Acc  Step2_Normal_Acc  \\\n",
       "KNN / Grid_KNN                            0.794020          0.819678   \n",
       "RandomForest / Grid_RandomForest          0.972184          0.980031   \n",
       "SVM / Grid_SVM                            0.184385          0.130399   \n",
       "\n",
       "                                  Step3_Normal_Acc  Step1_Unbiased_Acc  \\\n",
       "KNN / Grid_KNN                            0.947353            0.528777   \n",
       "RandomForest / Grid_RandomForest          0.980062            0.808130   \n",
       "SVM / Grid_SVM                            0.937272            0.043801   \n",
       "\n",
       "                                  Step2_Unbiased_Acc  Step3_Unbiased_Acc  \n",
       "KNN / Grid_KNN                              0.558190            0.805505  \n",
       "RandomForest / Grid_RandomForest            0.810854            0.810868  \n",
       "SVM / Grid_SVM                              0.032623            0.727503  "
      ]
     },
     "execution_count": 66,
     "metadata": {},
     "output_type": "execute_result"
    }
   ],
   "source": []
  },
  {
   "cell_type": "markdown",
   "metadata": {},
   "source": [
    "# step1"
   ]
  },
  {
   "cell_type": "code",
   "execution_count": 54,
   "metadata": {},
   "outputs": [
    {
     "data": {
      "text/html": [
       "<div>\n",
       "<style>\n",
       "    .dataframe thead tr:only-child th {\n",
       "        text-align: right;\n",
       "    }\n",
       "\n",
       "    .dataframe thead th {\n",
       "        text-align: left;\n",
       "    }\n",
       "\n",
       "    .dataframe tbody tr th {\n",
       "        vertical-align: top;\n",
       "    }\n",
       "</style>\n",
       "<table border=\"1\" class=\"dataframe\">\n",
       "  <thead>\n",
       "    <tr style=\"text-align: right;\">\n",
       "      <th></th>\n",
       "      <th>Normal_Acc</th>\n",
       "      <th>Unbiased_Acc</th>\n",
       "      <th>Normal_Acc/Unbiased_Acc</th>\n",
       "    </tr>\n",
       "  </thead>\n",
       "  <tbody>\n",
       "    <tr>\n",
       "      <th>KNeighborsClassifier(n_neighbors=1)</th>\n",
       "      <td>0.794020</td>\n",
       "      <td>0.528777</td>\n",
       "      <td>1.501616</td>\n",
       "    </tr>\n",
       "    <tr>\n",
       "      <th>RandomForestClassifier(random_state=1010)</th>\n",
       "      <td>0.972184</td>\n",
       "      <td>0.808130</td>\n",
       "      <td>1.203004</td>\n",
       "    </tr>\n",
       "    <tr>\n",
       "      <th>SVC(random_state=1010)</th>\n",
       "      <td>0.184385</td>\n",
       "      <td>0.043801</td>\n",
       "      <td>4.209662</td>\n",
       "    </tr>\n",
       "  </tbody>\n",
       "</table>\n",
       "</div>"
      ],
      "text/plain": [
       "                                           Normal_Acc  Unbiased_Acc  \\\n",
       "KNeighborsClassifier(n_neighbors=1)          0.794020      0.528777   \n",
       "RandomForestClassifier(random_state=1010)    0.972184      0.808130   \n",
       "SVC(random_state=1010)                       0.184385      0.043801   \n",
       "\n",
       "                                           Normal_Acc/Unbiased_Acc  \n",
       "KNeighborsClassifier(n_neighbors=1)                       1.501616  \n",
       "RandomForestClassifier(random_state=1010)                 1.203004  \n",
       "SVC(random_state=1010)                                    4.209662  "
      ]
     },
     "execution_count": 54,
     "metadata": {},
     "output_type": "execute_result"
    }
   ],
   "source": [
    "step1_stats_acc_df"
   ]
  },
  {
   "cell_type": "markdown",
   "metadata": {},
   "source": [
    "Os resultados exibidos na tabela acima evidenciam que a nossa hipótese de que exemplos originados de uma mesma leitura quando usados indiscriminadamente no treino e no teste facilitam o aprendizado dos classificadores é válida, uma vez que o desempenho de todos os classficadores foi superior em ao menos 20% do que quando foi restringido o uso dos exemplos de uma mesma leitura.\n",
    "\n",
    "Vale destacar o bom desempenho do RandomForest em ambas configurações, que quando submetido a restrição no uso dos exemplos apresentou um desempenho ao KNN sem restrição que foi o segundo melhor classficador em ambos experimentos. Já a SVM foi o destaque negativo, sendo o classficador com performance em ambos experimentos e aquele que mais sofreu com a restrição no uso de exemplos."
   ]
  },
  {
   "cell_type": "code",
   "execution_count": 55,
   "metadata": {
    "scrolled": true
   },
   "outputs": [
    {
     "data": {
      "text/html": [
       "<div>\n",
       "<style>\n",
       "    .dataframe thead tr:only-child th {\n",
       "        text-align: right;\n",
       "    }\n",
       "\n",
       "    .dataframe thead th {\n",
       "        text-align: left;\n",
       "    }\n",
       "\n",
       "    .dataframe tbody tr th {\n",
       "        vertical-align: top;\n",
       "    }\n",
       "</style>\n",
       "<table border=\"1\" class=\"dataframe\">\n",
       "  <thead>\n",
       "    <tr style=\"text-align: right;\">\n",
       "      <th></th>\n",
       "      <th>Normal_F1</th>\n",
       "      <th>Unbiased_F1</th>\n",
       "      <th>Normal_F1/Unbiased_F1</th>\n",
       "    </tr>\n",
       "  </thead>\n",
       "  <tbody>\n",
       "    <tr>\n",
       "      <th>KNeighborsClassifier(n_neighbors=1)</th>\n",
       "      <td>0.758446</td>\n",
       "      <td>0.293669</td>\n",
       "      <td>2.582659</td>\n",
       "    </tr>\n",
       "    <tr>\n",
       "      <th>RandomForestClassifier(random_state=1010)</th>\n",
       "      <td>0.964969</td>\n",
       "      <td>0.550658</td>\n",
       "      <td>1.752391</td>\n",
       "    </tr>\n",
       "    <tr>\n",
       "      <th>SVC(random_state=1010)</th>\n",
       "      <td>0.070601</td>\n",
       "      <td>0.020537</td>\n",
       "      <td>3.437735</td>\n",
       "    </tr>\n",
       "  </tbody>\n",
       "</table>\n",
       "</div>"
      ],
      "text/plain": [
       "                                           Normal_F1  Unbiased_F1  \\\n",
       "KNeighborsClassifier(n_neighbors=1)         0.758446     0.293669   \n",
       "RandomForestClassifier(random_state=1010)   0.964969     0.550658   \n",
       "SVC(random_state=1010)                      0.070601     0.020537   \n",
       "\n",
       "                                           Normal_F1/Unbiased_F1  \n",
       "KNeighborsClassifier(n_neighbors=1)                     2.582659  \n",
       "RandomForestClassifier(random_state=1010)               1.752391  \n",
       "SVC(random_state=1010)                                  3.437735  "
      ]
     },
     "execution_count": 55,
     "metadata": {},
     "output_type": "execute_result"
    }
   ],
   "source": [
    "step1_stats_f1_df"
   ]
  },
  {
   "cell_type": "markdown",
   "metadata": {},
   "source": [
    "Assim como no experimento utilizando a acurácia como métrica, o desempenho dos classficadores quando avaliados pela métrica f1_macro foi inferior quando submetidos a exemplos com restrição quanto a origem de leitura. O desempenho dos classficadores, a exceção da SVM, no experimento 'Normal_F1', foi similar ao experimento 'Normal_Acc'. Isto não ocorre no segundo experimento, por conta de uma queda de performance em 'Unbiased_F1' muito superior a observada em 'Unbiased_Acc'.\n",
    "\n"
   ]
  },
  {
   "cell_type": "markdown",
   "metadata": {},
   "source": [
    "# step2"
   ]
  },
  {
   "cell_type": "markdown",
   "metadata": {},
   "source": [
    "### acc"
   ]
  },
  {
   "cell_type": "code",
   "execution_count": 56,
   "metadata": {},
   "outputs": [
    {
     "data": {
      "text/html": [
       "<div>\n",
       "<style>\n",
       "    .dataframe thead tr:only-child th {\n",
       "        text-align: right;\n",
       "    }\n",
       "\n",
       "    .dataframe thead th {\n",
       "        text-align: left;\n",
       "    }\n",
       "\n",
       "    .dataframe tbody tr th {\n",
       "        vertical-align: top;\n",
       "    }\n",
       "</style>\n",
       "<table border=\"1\" class=\"dataframe\">\n",
       "  <thead>\n",
       "    <tr style=\"text-align: right;\">\n",
       "      <th></th>\n",
       "      <th>Normal_Simple_Acc</th>\n",
       "      <th>Normal_Nested_Acc</th>\n",
       "      <th>Unbiased_Simple_Acc</th>\n",
       "      <th>Unbiased_Nested_Acc</th>\n",
       "    </tr>\n",
       "  </thead>\n",
       "  <tbody>\n",
       "    <tr>\n",
       "      <th>Grid_KNN</th>\n",
       "      <td>0.831050</td>\n",
       "      <td>0.819678</td>\n",
       "      <td>0.575652</td>\n",
       "      <td>0.558190</td>\n",
       "    </tr>\n",
       "    <tr>\n",
       "      <th>Grid_RandomForest</th>\n",
       "      <td>0.983058</td>\n",
       "      <td>0.980031</td>\n",
       "      <td>0.840996</td>\n",
       "      <td>0.810854</td>\n",
       "    </tr>\n",
       "    <tr>\n",
       "      <th>Grid_SVM</th>\n",
       "      <td>0.130772</td>\n",
       "      <td>0.130399</td>\n",
       "      <td>0.033243</td>\n",
       "      <td>0.032623</td>\n",
       "    </tr>\n",
       "  </tbody>\n",
       "</table>\n",
       "</div>"
      ],
      "text/plain": [
       "                   Normal_Simple_Acc  Normal_Nested_Acc  Unbiased_Simple_Acc  \\\n",
       "Grid_KNN                    0.831050           0.819678             0.575652   \n",
       "Grid_RandomForest           0.983058           0.980031             0.840996   \n",
       "Grid_SVM                    0.130772           0.130399             0.033243   \n",
       "\n",
       "                   Unbiased_Nested_Acc  \n",
       "Grid_KNN                      0.558190  \n",
       "Grid_RandomForest             0.810854  \n",
       "Grid_SVM                      0.032623  "
      ]
     },
     "execution_count": 56,
     "metadata": {},
     "output_type": "execute_result"
    }
   ],
   "source": [
    "step2_stats_acc_df"
   ]
  },
  {
   "cell_type": "markdown",
   "metadata": {},
   "source": [
    "Ao comparmos os pares de experimentos (Normal_Simple_Acc, Normal_Nested_Acc) e \n",
    "(Unbiased_Simple_Acc e Unbiased_Nested), fica evidente que a metodologia de avaliação 'Simple' que envolve apenas os conjuntos de treino e teste é menos rigorosa que a avaliação 'Nested' que possui as etapas de treino, validação e teste. Por isso o desempenho dos experimentos 'Nested' possuem um desempenho inferior ao 'Simple'.\n",
    "\n",
    "Para efeito de comparação dos Grids realizados nesta etapa com  o desempenho dos classficadores na etapa anterior utilizaramos os experiementos 'Nested', que como já dissemos são mais rigorosos. E como podemos ver da tabela conjunta abaixo, vemos que a exceção da SVM, na etapa 2 com o uso do GridSearch de parâmetros nos classificadores, houve uma melhora no desempenho em realação aos classficadores simples da 1ª etapa para ambas formas de tratamento dos exemplos originados de uma mesma leitura de dados. No entanto, a performace dos classificadores subemtidos ao experimento na forma 'Unbiased' ainda é bem inferior ao experimento na forma 'Normal', assim como na 1ª etapa."
   ]
  },
  {
   "cell_type": "code",
   "execution_count": 57,
   "metadata": {},
   "outputs": [
    {
     "data": {
      "text/html": [
       "<div>\n",
       "<style>\n",
       "    .dataframe thead tr:only-child th {\n",
       "        text-align: right;\n",
       "    }\n",
       "\n",
       "    .dataframe thead th {\n",
       "        text-align: left;\n",
       "    }\n",
       "\n",
       "    .dataframe tbody tr th {\n",
       "        vertical-align: top;\n",
       "    }\n",
       "</style>\n",
       "<table border=\"1\" class=\"dataframe\">\n",
       "  <thead>\n",
       "    <tr style=\"text-align: right;\">\n",
       "      <th></th>\n",
       "      <th>Step1_Normal_Acc</th>\n",
       "      <th>Step2_Normal_Acc</th>\n",
       "      <th>Step1_Unbiased_Acc</th>\n",
       "      <th>Step2_Unbiased_Acc</th>\n",
       "    </tr>\n",
       "  </thead>\n",
       "  <tbody>\n",
       "    <tr>\n",
       "      <th>KNN / Grid_KNN</th>\n",
       "      <td>0.794020</td>\n",
       "      <td>0.819678</td>\n",
       "      <td>0.528777</td>\n",
       "      <td>0.558190</td>\n",
       "    </tr>\n",
       "    <tr>\n",
       "      <th>RandomForest / Grid_RandomForest</th>\n",
       "      <td>0.972184</td>\n",
       "      <td>0.980031</td>\n",
       "      <td>0.808130</td>\n",
       "      <td>0.810854</td>\n",
       "    </tr>\n",
       "    <tr>\n",
       "      <th>SVM / Grid_SVM</th>\n",
       "      <td>0.184385</td>\n",
       "      <td>0.130399</td>\n",
       "      <td>0.043801</td>\n",
       "      <td>0.032623</td>\n",
       "    </tr>\n",
       "  </tbody>\n",
       "</table>\n",
       "</div>"
      ],
      "text/plain": [
       "                                  Step1_Normal_Acc  Step2_Normal_Acc  \\\n",
       "KNN / Grid_KNN                            0.794020          0.819678   \n",
       "RandomForest / Grid_RandomForest          0.972184          0.980031   \n",
       "SVM / Grid_SVM                            0.184385          0.130399   \n",
       "\n",
       "                                  Step1_Unbiased_Acc  Step2_Unbiased_Acc  \n",
       "KNN / Grid_KNN                              0.528777            0.558190  \n",
       "RandomForest / Grid_RandomForest            0.808130            0.810854  \n",
       "SVM / Grid_SVM                              0.043801            0.032623  "
      ]
     },
     "execution_count": 57,
     "metadata": {},
     "output_type": "execute_result"
    }
   ],
   "source": [
    "step1_merge_step2('acc')"
   ]
  },
  {
   "cell_type": "markdown",
   "metadata": {},
   "source": [
    "### f1"
   ]
  },
  {
   "cell_type": "code",
   "execution_count": 58,
   "metadata": {},
   "outputs": [
    {
     "data": {
      "text/html": [
       "<div>\n",
       "<style>\n",
       "    .dataframe thead tr:only-child th {\n",
       "        text-align: right;\n",
       "    }\n",
       "\n",
       "    .dataframe thead th {\n",
       "        text-align: left;\n",
       "    }\n",
       "\n",
       "    .dataframe tbody tr th {\n",
       "        vertical-align: top;\n",
       "    }\n",
       "</style>\n",
       "<table border=\"1\" class=\"dataframe\">\n",
       "  <thead>\n",
       "    <tr style=\"text-align: right;\">\n",
       "      <th></th>\n",
       "      <th>Normal_Simple_F1</th>\n",
       "      <th>Normal_Nested_F1</th>\n",
       "      <th>Unbiased_Simple_F1</th>\n",
       "      <th>Unbiased_Nested_F1</th>\n",
       "    </tr>\n",
       "  </thead>\n",
       "  <tbody>\n",
       "    <tr>\n",
       "      <th>Grid_KNN</th>\n",
       "      <td>0.798721</td>\n",
       "      <td>0.785742</td>\n",
       "      <td>0.332658</td>\n",
       "      <td>0.314372</td>\n",
       "    </tr>\n",
       "    <tr>\n",
       "      <th>Grid_RandomForest</th>\n",
       "      <td>0.978685</td>\n",
       "      <td>0.974639</td>\n",
       "      <td>0.624041</td>\n",
       "      <td>0.568563</td>\n",
       "    </tr>\n",
       "    <tr>\n",
       "      <th>Grid_SVM</th>\n",
       "      <td>0.015589</td>\n",
       "      <td>0.015040</td>\n",
       "      <td>0.008868</td>\n",
       "      <td>0.007926</td>\n",
       "    </tr>\n",
       "  </tbody>\n",
       "</table>\n",
       "</div>"
      ],
      "text/plain": [
       "                   Normal_Simple_F1  Normal_Nested_F1  Unbiased_Simple_F1  \\\n",
       "Grid_KNN                   0.798721          0.785742            0.332658   \n",
       "Grid_RandomForest          0.978685          0.974639            0.624041   \n",
       "Grid_SVM                   0.015589          0.015040            0.008868   \n",
       "\n",
       "                   Unbiased_Nested_F1  \n",
       "Grid_KNN                     0.314372  \n",
       "Grid_RandomForest            0.568563  \n",
       "Grid_SVM                     0.007926  "
      ]
     },
     "execution_count": 58,
     "metadata": {},
     "output_type": "execute_result"
    }
   ],
   "source": [
    "step2_stats_f1_df"
   ]
  },
  {
   "cell_type": "code",
   "execution_count": 59,
   "metadata": {},
   "outputs": [
    {
     "data": {
      "text/html": [
       "<div>\n",
       "<style>\n",
       "    .dataframe thead tr:only-child th {\n",
       "        text-align: right;\n",
       "    }\n",
       "\n",
       "    .dataframe thead th {\n",
       "        text-align: left;\n",
       "    }\n",
       "\n",
       "    .dataframe tbody tr th {\n",
       "        vertical-align: top;\n",
       "    }\n",
       "</style>\n",
       "<table border=\"1\" class=\"dataframe\">\n",
       "  <thead>\n",
       "    <tr style=\"text-align: right;\">\n",
       "      <th></th>\n",
       "      <th>Step1_Normal_F1</th>\n",
       "      <th>Step2_Normal_F1</th>\n",
       "      <th>Step1_Unbiased_F1</th>\n",
       "      <th>Step2_Unbiased_F1</th>\n",
       "    </tr>\n",
       "  </thead>\n",
       "  <tbody>\n",
       "    <tr>\n",
       "      <th>KNN / Grid_KNN</th>\n",
       "      <td>0.758446</td>\n",
       "      <td>0.785742</td>\n",
       "      <td>0.293669</td>\n",
       "      <td>0.314372</td>\n",
       "    </tr>\n",
       "    <tr>\n",
       "      <th>RandomForest / Grid_RandomForest</th>\n",
       "      <td>0.964969</td>\n",
       "      <td>0.974639</td>\n",
       "      <td>0.550658</td>\n",
       "      <td>0.568563</td>\n",
       "    </tr>\n",
       "    <tr>\n",
       "      <th>SVM / Grid_SVM</th>\n",
       "      <td>0.070601</td>\n",
       "      <td>0.015040</td>\n",
       "      <td>0.020537</td>\n",
       "      <td>0.007926</td>\n",
       "    </tr>\n",
       "  </tbody>\n",
       "</table>\n",
       "</div>"
      ],
      "text/plain": [
       "                                  Step1_Normal_F1  Step2_Normal_F1  \\\n",
       "KNN / Grid_KNN                           0.758446         0.785742   \n",
       "RandomForest / Grid_RandomForest         0.964969         0.974639   \n",
       "SVM / Grid_SVM                           0.070601         0.015040   \n",
       "\n",
       "                                  Step1_Unbiased_F1  Step2_Unbiased_F1  \n",
       "KNN / Grid_KNN                             0.293669           0.314372  \n",
       "RandomForest / Grid_RandomForest           0.550658           0.568563  \n",
       "SVM / Grid_SVM                             0.020537           0.007926  "
      ]
     },
     "execution_count": 59,
     "metadata": {},
     "output_type": "execute_result"
    }
   ],
   "source": [
    "step1_merge_step2('f1')"
   ]
  },
  {
   "cell_type": "markdown",
   "metadata": {},
   "source": [
    "O compartamento dos classificadores submetidos a métrica de avaliação 'f1_macro', foi semelhante ao que acabamos de apresentar para a métrica 'acurácia'. Incluindo a exceção da SVM, que foi o único classificador que piorou sua performace com o GridSearch. O desempenho dos classifcadores dos experimentos na forma 'Unbiased' continuam muito inferiores ao experimentos na forma 'Normal'."
   ]
  },
  {
   "cell_type": "markdown",
   "metadata": {},
   "source": [
    "# step3"
   ]
  },
  {
   "cell_type": "markdown",
   "metadata": {},
   "source": [
    "### acc"
   ]
  },
  {
   "cell_type": "code",
   "execution_count": 6,
   "metadata": {},
   "outputs": [
    {
     "data": {
      "text/html": [
       "<div>\n",
       "<style>\n",
       "    .dataframe thead tr:only-child th {\n",
       "        text-align: right;\n",
       "    }\n",
       "\n",
       "    .dataframe thead th {\n",
       "        text-align: left;\n",
       "    }\n",
       "\n",
       "    .dataframe tbody tr th {\n",
       "        vertical-align: top;\n",
       "    }\n",
       "</style>\n",
       "<table border=\"1\" class=\"dataframe\">\n",
       "  <thead>\n",
       "    <tr style=\"text-align: right;\">\n",
       "      <th></th>\n",
       "      <th>Normal_Nested_Acc</th>\n",
       "      <th>Unbiased_Nested_Acc</th>\n",
       "    </tr>\n",
       "  </thead>\n",
       "  <tbody>\n",
       "    <tr>\n",
       "      <th>Grid_KNN</th>\n",
       "      <td>0.947353</td>\n",
       "      <td>0.805505</td>\n",
       "    </tr>\n",
       "    <tr>\n",
       "      <th>Grid_RandomForest</th>\n",
       "      <td>0.980062</td>\n",
       "      <td>0.810868</td>\n",
       "    </tr>\n",
       "    <tr>\n",
       "      <th>Grid_SVM</th>\n",
       "      <td>0.937272</td>\n",
       "      <td>0.727503</td>\n",
       "    </tr>\n",
       "  </tbody>\n",
       "</table>\n",
       "</div>"
      ],
      "text/plain": [
       "                   Normal_Nested_Acc  Unbiased_Nested_Acc\n",
       "Grid_KNN                    0.947353             0.805505\n",
       "Grid_RandomForest           0.980062             0.810868\n",
       "Grid_SVM                    0.937272             0.727503"
      ]
     },
     "execution_count": 6,
     "metadata": {},
     "output_type": "execute_result"
    }
   ],
   "source": [
    "step3_stats_acc_df"
   ]
  },
  {
   "cell_type": "markdown",
   "metadata": {},
   "source": [
    " Nessa 3ª etapa do experimento repetimos os experimentos da etapa 2, com a metodologia de avaliação dos resultados com treino, validação e teste, junto com a técnica de pré-processamento 'Standardization'. Como podemos ver dos resultados apresentados na tabela acima, a SVM/Grid_SVM que desde da 1ª etapa apresentava resultados ruins, apresentou um resultado comparável ao os demais classificadores. Na tabela abaixo tem-se o resumo das três etapas."
   ]
  },
  {
   "cell_type": "code",
   "execution_count": 67,
   "metadata": {},
   "outputs": [
    {
     "data": {
      "text/html": [
       "<div>\n",
       "<style>\n",
       "    .dataframe thead tr:only-child th {\n",
       "        text-align: right;\n",
       "    }\n",
       "\n",
       "    .dataframe thead th {\n",
       "        text-align: left;\n",
       "    }\n",
       "\n",
       "    .dataframe tbody tr th {\n",
       "        vertical-align: top;\n",
       "    }\n",
       "</style>\n",
       "<table border=\"1\" class=\"dataframe\">\n",
       "  <thead>\n",
       "    <tr style=\"text-align: right;\">\n",
       "      <th></th>\n",
       "      <th>Step1_Normal_Acc</th>\n",
       "      <th>Step2_Normal_Acc</th>\n",
       "      <th>Step3_Normal_Acc</th>\n",
       "      <th>Step1_Unbiased_Acc</th>\n",
       "      <th>Step2_Unbiased_Acc</th>\n",
       "      <th>Step3_Unbiased_Acc</th>\n",
       "    </tr>\n",
       "  </thead>\n",
       "  <tbody>\n",
       "    <tr>\n",
       "      <th>KNN / Grid_KNN</th>\n",
       "      <td>0.794020</td>\n",
       "      <td>0.819678</td>\n",
       "      <td>0.947353</td>\n",
       "      <td>0.528777</td>\n",
       "      <td>0.558190</td>\n",
       "      <td>0.805505</td>\n",
       "    </tr>\n",
       "    <tr>\n",
       "      <th>RandomForest / Grid_RandomForest</th>\n",
       "      <td>0.972184</td>\n",
       "      <td>0.980031</td>\n",
       "      <td>0.980062</td>\n",
       "      <td>0.808130</td>\n",
       "      <td>0.810854</td>\n",
       "      <td>0.810868</td>\n",
       "    </tr>\n",
       "    <tr>\n",
       "      <th>SVM / Grid_SVM</th>\n",
       "      <td>0.184385</td>\n",
       "      <td>0.130399</td>\n",
       "      <td>0.937272</td>\n",
       "      <td>0.043801</td>\n",
       "      <td>0.032623</td>\n",
       "      <td>0.727503</td>\n",
       "    </tr>\n",
       "  </tbody>\n",
       "</table>\n",
       "</div>"
      ],
      "text/plain": [
       "                                  Step1_Normal_Acc  Step2_Normal_Acc  \\\n",
       "KNN / Grid_KNN                            0.794020          0.819678   \n",
       "RandomForest / Grid_RandomForest          0.972184          0.980031   \n",
       "SVM / Grid_SVM                            0.184385          0.130399   \n",
       "\n",
       "                                  Step3_Normal_Acc  Step1_Unbiased_Acc  \\\n",
       "KNN / Grid_KNN                            0.947353            0.528777   \n",
       "RandomForest / Grid_RandomForest          0.980062            0.808130   \n",
       "SVM / Grid_SVM                            0.937272            0.043801   \n",
       "\n",
       "                                  Step2_Unbiased_Acc  Step3_Unbiased_Acc  \n",
       "KNN / Grid_KNN                              0.558190            0.805505  \n",
       "RandomForest / Grid_RandomForest            0.810854            0.810868  \n",
       "SVM / Grid_SVM                              0.032623            0.727503  "
      ]
     },
     "execution_count": 67,
     "metadata": {},
     "output_type": "execute_result"
    }
   ],
   "source": [
    "merge_all_steps('acc')"
   ]
  },
  {
   "cell_type": "markdown",
   "metadata": {},
   "source": [
    "De fato, como pode-se obersevar o uso do Standarization foi muito benéfico para a melhora de desempenho não apenas da SVM/Grid_SVM, mas também para o KNN/Grid_KNN. Tal melhora fez com que a diferença de desempenho inicial entre os experimentos na forma 'Normal' e 'Unbiased', fosse drasticamente para estes dois classificadores. Já o classficador RandomForest se mostrou quase que insensível a técnica empregada."
   ]
  },
  {
   "cell_type": "markdown",
   "metadata": {},
   "source": [
    "### f1"
   ]
  },
  {
   "cell_type": "code",
   "execution_count": 68,
   "metadata": {},
   "outputs": [
    {
     "data": {
      "text/html": [
       "<div>\n",
       "<style>\n",
       "    .dataframe thead tr:only-child th {\n",
       "        text-align: right;\n",
       "    }\n",
       "\n",
       "    .dataframe thead th {\n",
       "        text-align: left;\n",
       "    }\n",
       "\n",
       "    .dataframe tbody tr th {\n",
       "        vertical-align: top;\n",
       "    }\n",
       "</style>\n",
       "<table border=\"1\" class=\"dataframe\">\n",
       "  <thead>\n",
       "    <tr style=\"text-align: right;\">\n",
       "      <th></th>\n",
       "      <th>Normal_Nested_F1</th>\n",
       "      <th>Unbiased_Nested_F1</th>\n",
       "    </tr>\n",
       "  </thead>\n",
       "  <tbody>\n",
       "    <tr>\n",
       "      <th>Grid_KNN</th>\n",
       "      <td>0.934902</td>\n",
       "      <td>0.522305</td>\n",
       "    </tr>\n",
       "    <tr>\n",
       "      <th>Grid_RandomForest</th>\n",
       "      <td>0.974669</td>\n",
       "      <td>0.568306</td>\n",
       "    </tr>\n",
       "    <tr>\n",
       "      <th>Grid_SVM</th>\n",
       "      <td>0.929567</td>\n",
       "      <td>0.445932</td>\n",
       "    </tr>\n",
       "  </tbody>\n",
       "</table>\n",
       "</div>"
      ],
      "text/plain": [
       "                   Normal_Nested_F1  Unbiased_Nested_F1\n",
       "Grid_KNN                   0.934902            0.522305\n",
       "Grid_RandomForest          0.974669            0.568306\n",
       "Grid_SVM                   0.929567            0.445932"
      ]
     },
     "execution_count": 68,
     "metadata": {},
     "output_type": "execute_result"
    }
   ],
   "source": [
    "step3_stats_f1_df"
   ]
  },
  {
   "cell_type": "code",
   "execution_count": 69,
   "metadata": {},
   "outputs": [
    {
     "data": {
      "text/html": [
       "<div>\n",
       "<style>\n",
       "    .dataframe thead tr:only-child th {\n",
       "        text-align: right;\n",
       "    }\n",
       "\n",
       "    .dataframe thead th {\n",
       "        text-align: left;\n",
       "    }\n",
       "\n",
       "    .dataframe tbody tr th {\n",
       "        vertical-align: top;\n",
       "    }\n",
       "</style>\n",
       "<table border=\"1\" class=\"dataframe\">\n",
       "  <thead>\n",
       "    <tr style=\"text-align: right;\">\n",
       "      <th></th>\n",
       "      <th>Step1_Normal_F1</th>\n",
       "      <th>Step2_Normal_F1</th>\n",
       "      <th>Step3_Normal_F1</th>\n",
       "      <th>Step1_Unbiased_F1</th>\n",
       "      <th>Step2_Unbiased_F1</th>\n",
       "      <th>Step3_Unbiased_F1</th>\n",
       "    </tr>\n",
       "  </thead>\n",
       "  <tbody>\n",
       "    <tr>\n",
       "      <th>KNN / Grid_KNN</th>\n",
       "      <td>0.758446</td>\n",
       "      <td>0.785742</td>\n",
       "      <td>0.934902</td>\n",
       "      <td>0.293669</td>\n",
       "      <td>0.314372</td>\n",
       "      <td>0.522305</td>\n",
       "    </tr>\n",
       "    <tr>\n",
       "      <th>RandomForest / Grid_RandomForest</th>\n",
       "      <td>0.964969</td>\n",
       "      <td>0.974639</td>\n",
       "      <td>0.974669</td>\n",
       "      <td>0.550658</td>\n",
       "      <td>0.568563</td>\n",
       "      <td>0.568306</td>\n",
       "    </tr>\n",
       "    <tr>\n",
       "      <th>SVM / Grid_SVM</th>\n",
       "      <td>0.070601</td>\n",
       "      <td>0.015040</td>\n",
       "      <td>0.929567</td>\n",
       "      <td>0.020537</td>\n",
       "      <td>0.007926</td>\n",
       "      <td>0.445932</td>\n",
       "    </tr>\n",
       "  </tbody>\n",
       "</table>\n",
       "</div>"
      ],
      "text/plain": [
       "                                  Step1_Normal_F1  Step2_Normal_F1  \\\n",
       "KNN / Grid_KNN                           0.758446         0.785742   \n",
       "RandomForest / Grid_RandomForest         0.964969         0.974639   \n",
       "SVM / Grid_SVM                           0.070601         0.015040   \n",
       "\n",
       "                                  Step3_Normal_F1  Step1_Unbiased_F1  \\\n",
       "KNN / Grid_KNN                           0.934902           0.293669   \n",
       "RandomForest / Grid_RandomForest         0.974669           0.550658   \n",
       "SVM / Grid_SVM                           0.929567           0.020537   \n",
       "\n",
       "                                  Step2_Unbiased_F1  Step3_Unbiased_F1  \n",
       "KNN / Grid_KNN                             0.314372           0.522305  \n",
       "RandomForest / Grid_RandomForest           0.568563           0.568306  \n",
       "SVM / Grid_SVM                             0.007926           0.445932  "
      ]
     },
     "execution_count": 69,
     "metadata": {},
     "output_type": "execute_result"
    }
   ],
   "source": [
    "merge_all_steps('f1')"
   ]
  },
  {
   "cell_type": "markdown",
   "metadata": {},
   "source": [
    "Idem, 'acc'. Olhar email enviado com a avaliação geral final."
   ]
  }
 ],
 "metadata": {
  "kernelspec": {
   "display_name": "Python [default]",
   "language": "python",
   "name": "python2"
  },
  "language_info": {
   "codemirror_mode": {
    "name": "ipython",
    "version": 2
   },
   "file_extension": ".py",
   "mimetype": "text/x-python",
   "name": "python",
   "nbconvert_exporter": "python",
   "pygments_lexer": "ipython2",
   "version": "2.7.13"
  }
 },
 "nbformat": 4,
 "nbformat_minor": 2
}
