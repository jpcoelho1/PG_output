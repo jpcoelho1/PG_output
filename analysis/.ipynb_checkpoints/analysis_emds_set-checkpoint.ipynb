{
 "cells": [
  {
   "cell_type": "code",
   "execution_count": 1,
   "metadata": {},
   "outputs": [],
   "source": [
    "# Loading data from steps notebooks\n",
    "# emd\n",
    "%store -r step1_emd_acc_df\n",
    "%store -r step1_emd_f1_df\n",
    "%store -r step2_emd_acc_df\n",
    "%store -r step2_emd_f1_df\n",
    "%store -r step3_emd_acc_df\n",
    "%store -r step3_emd_f1_df\n",
    "# eemd\n",
    "%store -r step1_eemd_acc_df\n",
    "%store -r step1_eemd_f1_df\n",
    "%store -r step2_eemd_acc_df\n",
    "%store -r step2_eemd_f1_df\n",
    "%store -r step3_eemd_acc_df\n",
    "%store -r step3_eemd_f1_df\n",
    "# ceemdan\n",
    "%store -r step1_ceemdan_acc_df\n",
    "%store -r step1_ceemdan_f1_df\n",
    "%store -r step2_ceemdan_acc_df\n",
    "%store -r step2_ceemdan_f1_df\n",
    "%store -r step3_ceemdan_acc_df\n",
    "%store -r step3_ceemdan_f1_df"
   ]
  },
  {
   "cell_type": "code",
   "execution_count": 2,
   "metadata": {
    "collapsed": true
   },
   "outputs": [],
   "source": [
    "# Functions needed\n",
    "import pandas as pd\n",
    "\n",
    "#score = 'acc' or score = 'f1'\n",
    "def step1_merge_step2(score, step1_df, step2_df):\n",
    "    \n",
    "    # selecting series from step1_df\n",
    "    s1_normal_score = step1_df['Score_x'.format(score.title())].tolist()\n",
    "    s1_unbiased_score = step1_df['Score_y'.format(score.title())].tolist()\n",
    "\n",
    "    # selecting series from step2_df\n",
    "    s2_normal_score = step2_df['Normal_Nested_{0}'.format(score.title())].tolist()\n",
    "    s2_unbaised_score = step2_df['Unbiased_Nested_{0}'.format(score.title())].tolist()\n",
    "\n",
    "    # creating the merged dataframe\n",
    "    ss_index = ['KNN / Grid_KNN', 'RandomForest / Grid_RandomForest','SVM / Grid_SVM']\n",
    "    df_index = ['{0}_{1}_{2}'.format('Step1', 'Normal', score.title()),\n",
    "                '{0}_{1}_{2}'.format('Step2', 'Normal', score.title()),\n",
    "                '{0}_{1}_{2}'.format('Step1', 'Unbiased', score.title()),\n",
    "                '{0}_{1}_{2}'.format('Step2', 'Unbiased', score.title())]\n",
    "    s1s2_df = pd.DataFrame([pd.Series(s1_normal_score, index=ss_index),\n",
    "                            pd.Series(s2_normal_score, index=ss_index),\n",
    "                            pd.Series(s1_unbiased_score, index=ss_index),\n",
    "                            pd.Series(s2_unbaised_score, index=ss_index)], index=df_index)\n",
    "    \n",
    "    return s1s2_df.T\n",
    "\n",
    "def merge_all_steps(score, step1_df, step2_df, step3_df):\n",
    "   \n",
    "    # selecting the series from step3_df\n",
    "    s3_normal_score = step3_df['Normal_Nested_{0}'.format(score.title())].tolist()\n",
    "    s3_unbaised_score = step3_df['Unbiased_Nested_{0}'.format(score.title())].tolist()\n",
    "    # \n",
    "    s1s2_df = step1_merge_step2(score, step1_df, step2_df)\n",
    "    #df.insert(loc=idx, column='A', value=new_col)\n",
    "    s1s2_df.insert(loc=2, column='Step3_Normal_{0}'.format(score.title()), value=s3_normal_score)\n",
    "    s1s2_df.insert(loc=5, column='Step3_Unbiased_{0}'.format(score.title()), value=s3_unbaised_score)\n",
    "    return s1s2_df"
   ]
  },
  {
   "cell_type": "markdown",
   "metadata": {},
   "source": [
    "# step1"
   ]
  },
  {
   "cell_type": "markdown",
   "metadata": {},
   "source": [
    "### acc"
   ]
  },
  {
   "cell_type": "markdown",
   "metadata": {},
   "source": [
    "#### emd"
   ]
  },
  {
   "cell_type": "code",
   "execution_count": 3,
   "metadata": {},
   "outputs": [
    {
     "data": {
      "text/html": [
       "<div>\n",
       "<style>\n",
       "    .dataframe thead tr:only-child th {\n",
       "        text-align: right;\n",
       "    }\n",
       "\n",
       "    .dataframe thead th {\n",
       "        text-align: left;\n",
       "    }\n",
       "\n",
       "    .dataframe tbody tr th {\n",
       "        vertical-align: top;\n",
       "    }\n",
       "</style>\n",
       "<table border=\"1\" class=\"dataframe\">\n",
       "  <thead>\n",
       "    <tr style=\"text-align: right;\">\n",
       "      <th></th>\n",
       "      <th>Best_Normal</th>\n",
       "      <th>Score_x</th>\n",
       "      <th>Best_Unbiased</th>\n",
       "      <th>Score_y</th>\n",
       "    </tr>\n",
       "  </thead>\n",
       "  <tbody>\n",
       "    <tr>\n",
       "      <th>KNeighborsClassifier(n_neighbors=1)</th>\n",
       "      <td>Normal_Acc_Imfs_4</td>\n",
       "      <td>0.980516</td>\n",
       "      <td>Unbiased_Acc_Imfs_8</td>\n",
       "      <td>0.763499</td>\n",
       "    </tr>\n",
       "    <tr>\n",
       "      <th>RandomForestClassifier(random_state=1010)</th>\n",
       "      <td>Normal_Acc_Imfs_8</td>\n",
       "      <td>0.988472</td>\n",
       "      <td>Unbiased_Acc_Imfs_8</td>\n",
       "      <td>0.822526</td>\n",
       "    </tr>\n",
       "    <tr>\n",
       "      <th>SVC(random_state=1010)</th>\n",
       "      <td>Normal_Acc_Imfs_4</td>\n",
       "      <td>0.233047</td>\n",
       "      <td>Unbiased_Acc_Imfs_4</td>\n",
       "      <td>0.137103</td>\n",
       "    </tr>\n",
       "  </tbody>\n",
       "</table>\n",
       "</div>"
      ],
      "text/plain": [
       "                                                 Best_Normal   Score_x  \\\n",
       "KNeighborsClassifier(n_neighbors=1)        Normal_Acc_Imfs_4  0.980516   \n",
       "RandomForestClassifier(random_state=1010)  Normal_Acc_Imfs_8  0.988472   \n",
       "SVC(random_state=1010)                     Normal_Acc_Imfs_4  0.233047   \n",
       "\n",
       "                                                 Best_Unbiased   Score_y  \n",
       "KNeighborsClassifier(n_neighbors=1)        Unbiased_Acc_Imfs_8  0.763499  \n",
       "RandomForestClassifier(random_state=1010)  Unbiased_Acc_Imfs_8  0.822526  \n",
       "SVC(random_state=1010)                     Unbiased_Acc_Imfs_4  0.137103  "
      ]
     },
     "execution_count": 3,
     "metadata": {},
     "output_type": "execute_result"
    }
   ],
   "source": [
    "step1_emd_acc_df"
   ]
  },
  {
   "cell_type": "markdown",
   "metadata": {},
   "source": [
    "#### eemd"
   ]
  },
  {
   "cell_type": "code",
   "execution_count": 4,
   "metadata": {},
   "outputs": [
    {
     "data": {
      "text/html": [
       "<div>\n",
       "<style>\n",
       "    .dataframe thead tr:only-child th {\n",
       "        text-align: right;\n",
       "    }\n",
       "\n",
       "    .dataframe thead th {\n",
       "        text-align: left;\n",
       "    }\n",
       "\n",
       "    .dataframe tbody tr th {\n",
       "        vertical-align: top;\n",
       "    }\n",
       "</style>\n",
       "<table border=\"1\" class=\"dataframe\">\n",
       "  <thead>\n",
       "    <tr style=\"text-align: right;\">\n",
       "      <th></th>\n",
       "      <th>Best_Normal</th>\n",
       "      <th>Score_x</th>\n",
       "      <th>Best_Unbiased</th>\n",
       "      <th>Score_y</th>\n",
       "    </tr>\n",
       "  </thead>\n",
       "  <tbody>\n",
       "    <tr>\n",
       "      <th>KNeighborsClassifier(n_neighbors=1)</th>\n",
       "      <td>Normal_Acc_Noise_0.01_Imfs_4</td>\n",
       "      <td>0.979815</td>\n",
       "      <td>Unbiased_Acc_Noise_0.01_Imfs_8</td>\n",
       "      <td>0.761607</td>\n",
       "    </tr>\n",
       "    <tr>\n",
       "      <th>RandomForestClassifier(random_state=1010)</th>\n",
       "      <td>Normal_Acc_Noise_0.3_Imfs_8</td>\n",
       "      <td>0.995800</td>\n",
       "      <td>Unbiased_Acc_Noise_0.3_Imfs_8</td>\n",
       "      <td>0.874571</td>\n",
       "    </tr>\n",
       "    <tr>\n",
       "      <th>SVC(random_state=1010)</th>\n",
       "      <td>Normal_Acc_Noise_0.4_Imfs_4</td>\n",
       "      <td>0.236986</td>\n",
       "      <td>Unbiased_Acc_Noise_0.4_Imfs_4</td>\n",
       "      <td>0.141623</td>\n",
       "    </tr>\n",
       "  </tbody>\n",
       "</table>\n",
       "</div>"
      ],
      "text/plain": [
       "                                                            Best_Normal  \\\n",
       "KNeighborsClassifier(n_neighbors=1)        Normal_Acc_Noise_0.01_Imfs_4   \n",
       "RandomForestClassifier(random_state=1010)   Normal_Acc_Noise_0.3_Imfs_8   \n",
       "SVC(random_state=1010)                      Normal_Acc_Noise_0.4_Imfs_4   \n",
       "\n",
       "                                            Score_x  \\\n",
       "KNeighborsClassifier(n_neighbors=1)        0.979815   \n",
       "RandomForestClassifier(random_state=1010)  0.995800   \n",
       "SVC(random_state=1010)                     0.236986   \n",
       "\n",
       "                                                            Best_Unbiased  \\\n",
       "KNeighborsClassifier(n_neighbors=1)        Unbiased_Acc_Noise_0.01_Imfs_8   \n",
       "RandomForestClassifier(random_state=1010)   Unbiased_Acc_Noise_0.3_Imfs_8   \n",
       "SVC(random_state=1010)                      Unbiased_Acc_Noise_0.4_Imfs_4   \n",
       "\n",
       "                                            Score_y  \n",
       "KNeighborsClassifier(n_neighbors=1)        0.761607  \n",
       "RandomForestClassifier(random_state=1010)  0.874571  \n",
       "SVC(random_state=1010)                     0.141623  "
      ]
     },
     "execution_count": 4,
     "metadata": {},
     "output_type": "execute_result"
    }
   ],
   "source": [
    "step1_eemd_acc_df"
   ]
  },
  {
   "cell_type": "markdown",
   "metadata": {},
   "source": [
    "#### ceemdan"
   ]
  },
  {
   "cell_type": "code",
   "execution_count": 5,
   "metadata": {},
   "outputs": [
    {
     "data": {
      "text/html": [
       "<div>\n",
       "<style>\n",
       "    .dataframe thead tr:only-child th {\n",
       "        text-align: right;\n",
       "    }\n",
       "\n",
       "    .dataframe thead th {\n",
       "        text-align: left;\n",
       "    }\n",
       "\n",
       "    .dataframe tbody tr th {\n",
       "        vertical-align: top;\n",
       "    }\n",
       "</style>\n",
       "<table border=\"1\" class=\"dataframe\">\n",
       "  <thead>\n",
       "    <tr style=\"text-align: right;\">\n",
       "      <th></th>\n",
       "      <th>Best_Normal</th>\n",
       "      <th>Score_x</th>\n",
       "      <th>Best_Unbiased</th>\n",
       "      <th>Score_y</th>\n",
       "    </tr>\n",
       "  </thead>\n",
       "  <tbody>\n",
       "    <tr>\n",
       "      <th>KNeighborsClassifier(n_neighbors=1)</th>\n",
       "      <td>Normal_Acc_Noise_0.2_Imfs_4</td>\n",
       "      <td>0.980446</td>\n",
       "      <td>Unbiased_Acc_Noise_0.2_Imfs_4</td>\n",
       "      <td>0.792479</td>\n",
       "    </tr>\n",
       "    <tr>\n",
       "      <th>RandomForestClassifier(random_state=1010)</th>\n",
       "      <td>Normal_Acc_Noise_0.4_Imfs_8</td>\n",
       "      <td>0.997300</td>\n",
       "      <td>Unbiased_Acc_Noise_0.4_Imfs_8</td>\n",
       "      <td>0.874954</td>\n",
       "    </tr>\n",
       "    <tr>\n",
       "      <th>SVC(random_state=1010)</th>\n",
       "      <td>Normal_Acc_Noise_0.4_Imfs_4</td>\n",
       "      <td>0.238774</td>\n",
       "      <td>Unbiased_Acc_Noise_0.4_Imfs_4</td>\n",
       "      <td>0.143487</td>\n",
       "    </tr>\n",
       "  </tbody>\n",
       "</table>\n",
       "</div>"
      ],
      "text/plain": [
       "                                                           Best_Normal  \\\n",
       "KNeighborsClassifier(n_neighbors=1)        Normal_Acc_Noise_0.2_Imfs_4   \n",
       "RandomForestClassifier(random_state=1010)  Normal_Acc_Noise_0.4_Imfs_8   \n",
       "SVC(random_state=1010)                     Normal_Acc_Noise_0.4_Imfs_4   \n",
       "\n",
       "                                            Score_x  \\\n",
       "KNeighborsClassifier(n_neighbors=1)        0.980446   \n",
       "RandomForestClassifier(random_state=1010)  0.997300   \n",
       "SVC(random_state=1010)                     0.238774   \n",
       "\n",
       "                                                           Best_Unbiased  \\\n",
       "KNeighborsClassifier(n_neighbors=1)        Unbiased_Acc_Noise_0.2_Imfs_4   \n",
       "RandomForestClassifier(random_state=1010)  Unbiased_Acc_Noise_0.4_Imfs_8   \n",
       "SVC(random_state=1010)                     Unbiased_Acc_Noise_0.4_Imfs_4   \n",
       "\n",
       "                                            Score_y  \n",
       "KNeighborsClassifier(n_neighbors=1)        0.792479  \n",
       "RandomForestClassifier(random_state=1010)  0.874954  \n",
       "SVC(random_state=1010)                     0.143487  "
      ]
     },
     "execution_count": 5,
     "metadata": {},
     "output_type": "execute_result"
    }
   ],
   "source": [
    "step1_ceemdan_acc_df"
   ]
  },
  {
   "cell_type": "markdown",
   "metadata": {},
   "source": [
    "### f1"
   ]
  },
  {
   "cell_type": "markdown",
   "metadata": {},
   "source": [
    "#### emd"
   ]
  },
  {
   "cell_type": "code",
   "execution_count": 6,
   "metadata": {},
   "outputs": [
    {
     "data": {
      "text/html": [
       "<div>\n",
       "<style>\n",
       "    .dataframe thead tr:only-child th {\n",
       "        text-align: right;\n",
       "    }\n",
       "\n",
       "    .dataframe thead th {\n",
       "        text-align: left;\n",
       "    }\n",
       "\n",
       "    .dataframe tbody tr th {\n",
       "        vertical-align: top;\n",
       "    }\n",
       "</style>\n",
       "<table border=\"1\" class=\"dataframe\">\n",
       "  <thead>\n",
       "    <tr style=\"text-align: right;\">\n",
       "      <th></th>\n",
       "      <th>Best_Normal</th>\n",
       "      <th>Score_x</th>\n",
       "      <th>Best_Unbiased</th>\n",
       "      <th>Score_y</th>\n",
       "    </tr>\n",
       "  </thead>\n",
       "  <tbody>\n",
       "    <tr>\n",
       "      <th>KNeighborsClassifier(n_neighbors=1)</th>\n",
       "      <td>Normal_F1_Imfs_4</td>\n",
       "      <td>0.972940</td>\n",
       "      <td>Unbiased_F1_Imfs_8</td>\n",
       "      <td>0.485018</td>\n",
       "    </tr>\n",
       "    <tr>\n",
       "      <th>RandomForestClassifier(random_state=1010)</th>\n",
       "      <td>Normal_F1_Imfs_8</td>\n",
       "      <td>0.984794</td>\n",
       "      <td>Unbiased_F1_Imfs_8</td>\n",
       "      <td>0.545623</td>\n",
       "    </tr>\n",
       "    <tr>\n",
       "      <th>SVC(random_state=1010)</th>\n",
       "      <td>Normal_F1_Imfs_4</td>\n",
       "      <td>0.090052</td>\n",
       "      <td>Unbiased_F1_Imfs_4</td>\n",
       "      <td>0.097579</td>\n",
       "    </tr>\n",
       "  </tbody>\n",
       "</table>\n",
       "</div>"
      ],
      "text/plain": [
       "                                                Best_Normal   Score_x  \\\n",
       "KNeighborsClassifier(n_neighbors=1)        Normal_F1_Imfs_4  0.972940   \n",
       "RandomForestClassifier(random_state=1010)  Normal_F1_Imfs_8  0.984794   \n",
       "SVC(random_state=1010)                     Normal_F1_Imfs_4  0.090052   \n",
       "\n",
       "                                                Best_Unbiased   Score_y  \n",
       "KNeighborsClassifier(n_neighbors=1)        Unbiased_F1_Imfs_8  0.485018  \n",
       "RandomForestClassifier(random_state=1010)  Unbiased_F1_Imfs_8  0.545623  \n",
       "SVC(random_state=1010)                     Unbiased_F1_Imfs_4  0.097579  "
      ]
     },
     "execution_count": 6,
     "metadata": {},
     "output_type": "execute_result"
    }
   ],
   "source": [
    "step1_emd_f1_df"
   ]
  },
  {
   "cell_type": "markdown",
   "metadata": {},
   "source": [
    "#### eemd"
   ]
  },
  {
   "cell_type": "code",
   "execution_count": 7,
   "metadata": {},
   "outputs": [
    {
     "data": {
      "text/html": [
       "<div>\n",
       "<style>\n",
       "    .dataframe thead tr:only-child th {\n",
       "        text-align: right;\n",
       "    }\n",
       "\n",
       "    .dataframe thead th {\n",
       "        text-align: left;\n",
       "    }\n",
       "\n",
       "    .dataframe tbody tr th {\n",
       "        vertical-align: top;\n",
       "    }\n",
       "</style>\n",
       "<table border=\"1\" class=\"dataframe\">\n",
       "  <thead>\n",
       "    <tr style=\"text-align: right;\">\n",
       "      <th></th>\n",
       "      <th>Best_Normal</th>\n",
       "      <th>Score_x</th>\n",
       "      <th>Best_Unbiased</th>\n",
       "      <th>Score_y</th>\n",
       "    </tr>\n",
       "  </thead>\n",
       "  <tbody>\n",
       "    <tr>\n",
       "      <th>KNeighborsClassifier(n_neighbors=1)</th>\n",
       "      <td>Normal_F1_Noise_0.01_Imfs_4</td>\n",
       "      <td>0.972506</td>\n",
       "      <td>Unbiased_F1_Noise_0.1_Imfs_8</td>\n",
       "      <td>0.489975</td>\n",
       "    </tr>\n",
       "    <tr>\n",
       "      <th>RandomForestClassifier(random_state=1010)</th>\n",
       "      <td>Normal_F1_Noise_0.3_Imfs_8</td>\n",
       "      <td>0.994675</td>\n",
       "      <td>Unbiased_F1_Noise_0.4_Imfs_8</td>\n",
       "      <td>0.642929</td>\n",
       "    </tr>\n",
       "    <tr>\n",
       "      <th>SVC(random_state=1010)</th>\n",
       "      <td>Normal_F1_Noise_0.4_Imfs_4</td>\n",
       "      <td>0.091704</td>\n",
       "      <td>Unbiased_F1_Noise_0.4_Imfs_4</td>\n",
       "      <td>0.101340</td>\n",
       "    </tr>\n",
       "  </tbody>\n",
       "</table>\n",
       "</div>"
      ],
      "text/plain": [
       "                                                           Best_Normal  \\\n",
       "KNeighborsClassifier(n_neighbors=1)        Normal_F1_Noise_0.01_Imfs_4   \n",
       "RandomForestClassifier(random_state=1010)   Normal_F1_Noise_0.3_Imfs_8   \n",
       "SVC(random_state=1010)                      Normal_F1_Noise_0.4_Imfs_4   \n",
       "\n",
       "                                            Score_x  \\\n",
       "KNeighborsClassifier(n_neighbors=1)        0.972506   \n",
       "RandomForestClassifier(random_state=1010)  0.994675   \n",
       "SVC(random_state=1010)                     0.091704   \n",
       "\n",
       "                                                          Best_Unbiased  \\\n",
       "KNeighborsClassifier(n_neighbors=1)        Unbiased_F1_Noise_0.1_Imfs_8   \n",
       "RandomForestClassifier(random_state=1010)  Unbiased_F1_Noise_0.4_Imfs_8   \n",
       "SVC(random_state=1010)                     Unbiased_F1_Noise_0.4_Imfs_4   \n",
       "\n",
       "                                            Score_y  \n",
       "KNeighborsClassifier(n_neighbors=1)        0.489975  \n",
       "RandomForestClassifier(random_state=1010)  0.642929  \n",
       "SVC(random_state=1010)                     0.101340  "
      ]
     },
     "execution_count": 7,
     "metadata": {},
     "output_type": "execute_result"
    }
   ],
   "source": [
    "step1_eemd_f1_df"
   ]
  },
  {
   "cell_type": "markdown",
   "metadata": {},
   "source": [
    "#### ceemdan"
   ]
  },
  {
   "cell_type": "code",
   "execution_count": 8,
   "metadata": {},
   "outputs": [
    {
     "data": {
      "text/html": [
       "<div>\n",
       "<style>\n",
       "    .dataframe thead tr:only-child th {\n",
       "        text-align: right;\n",
       "    }\n",
       "\n",
       "    .dataframe thead th {\n",
       "        text-align: left;\n",
       "    }\n",
       "\n",
       "    .dataframe tbody tr th {\n",
       "        vertical-align: top;\n",
       "    }\n",
       "</style>\n",
       "<table border=\"1\" class=\"dataframe\">\n",
       "  <thead>\n",
       "    <tr style=\"text-align: right;\">\n",
       "      <th></th>\n",
       "      <th>Best_Normal</th>\n",
       "      <th>Score_x</th>\n",
       "      <th>Best_Unbiased</th>\n",
       "      <th>Score_y</th>\n",
       "    </tr>\n",
       "  </thead>\n",
       "  <tbody>\n",
       "    <tr>\n",
       "      <th>KNeighborsClassifier(n_neighbors=1)</th>\n",
       "      <td>Normal_F1_Noise_0.2_Imfs_4</td>\n",
       "      <td>0.973027</td>\n",
       "      <td>Unbiased_F1_Noise_0.2_Imfs_4</td>\n",
       "      <td>0.518179</td>\n",
       "    </tr>\n",
       "    <tr>\n",
       "      <th>RandomForestClassifier(random_state=1010)</th>\n",
       "      <td>Normal_F1_Noise_0.4_Imfs_8</td>\n",
       "      <td>0.996275</td>\n",
       "      <td>Unbiased_F1_Noise_0.4_Imfs_8</td>\n",
       "      <td>0.660370</td>\n",
       "    </tr>\n",
       "    <tr>\n",
       "      <th>SVC(random_state=1010)</th>\n",
       "      <td>Normal_F1_Noise_0.4_Imfs_4</td>\n",
       "      <td>0.092498</td>\n",
       "      <td>Unbiased_F1_Noise_0.4_Imfs_4</td>\n",
       "      <td>0.103075</td>\n",
       "    </tr>\n",
       "  </tbody>\n",
       "</table>\n",
       "</div>"
      ],
      "text/plain": [
       "                                                          Best_Normal  \\\n",
       "KNeighborsClassifier(n_neighbors=1)        Normal_F1_Noise_0.2_Imfs_4   \n",
       "RandomForestClassifier(random_state=1010)  Normal_F1_Noise_0.4_Imfs_8   \n",
       "SVC(random_state=1010)                     Normal_F1_Noise_0.4_Imfs_4   \n",
       "\n",
       "                                            Score_x  \\\n",
       "KNeighborsClassifier(n_neighbors=1)        0.973027   \n",
       "RandomForestClassifier(random_state=1010)  0.996275   \n",
       "SVC(random_state=1010)                     0.092498   \n",
       "\n",
       "                                                          Best_Unbiased  \\\n",
       "KNeighborsClassifier(n_neighbors=1)        Unbiased_F1_Noise_0.2_Imfs_4   \n",
       "RandomForestClassifier(random_state=1010)  Unbiased_F1_Noise_0.4_Imfs_8   \n",
       "SVC(random_state=1010)                     Unbiased_F1_Noise_0.4_Imfs_4   \n",
       "\n",
       "                                            Score_y  \n",
       "KNeighborsClassifier(n_neighbors=1)        0.518179  \n",
       "RandomForestClassifier(random_state=1010)  0.660370  \n",
       "SVC(random_state=1010)                     0.103075  "
      ]
     },
     "execution_count": 8,
     "metadata": {},
     "output_type": "execute_result"
    }
   ],
   "source": [
    "step1_ceemdan_f1_df"
   ]
  },
  {
   "cell_type": "markdown",
   "metadata": {},
   "source": [
    "# step2"
   ]
  },
  {
   "cell_type": "markdown",
   "metadata": {},
   "source": [
    "### acc"
   ]
  },
  {
   "cell_type": "markdown",
   "metadata": {},
   "source": [
    "#### emd"
   ]
  },
  {
   "cell_type": "code",
   "execution_count": 9,
   "metadata": {},
   "outputs": [
    {
     "data": {
      "text/html": [
       "<div>\n",
       "<style>\n",
       "    .dataframe thead tr:only-child th {\n",
       "        text-align: right;\n",
       "    }\n",
       "\n",
       "    .dataframe thead th {\n",
       "        text-align: left;\n",
       "    }\n",
       "\n",
       "    .dataframe tbody tr th {\n",
       "        vertical-align: top;\n",
       "    }\n",
       "</style>\n",
       "<table border=\"1\" class=\"dataframe\">\n",
       "  <thead>\n",
       "    <tr style=\"text-align: right;\">\n",
       "      <th></th>\n",
       "      <th>Normal_Simple_Acc</th>\n",
       "      <th>Normal_Nested_Acc</th>\n",
       "      <th>Unbiased_Simple_Acc</th>\n",
       "      <th>Unbiased_Nested_Acc</th>\n",
       "    </tr>\n",
       "  </thead>\n",
       "  <tbody>\n",
       "    <tr>\n",
       "      <th>Grid_KNN</th>\n",
       "      <td>0.980547</td>\n",
       "      <td>0.980516</td>\n",
       "      <td>0.779316</td>\n",
       "      <td>0.758358</td>\n",
       "    </tr>\n",
       "    <tr>\n",
       "      <th>Grid_RandomForest</th>\n",
       "      <td>0.995304</td>\n",
       "      <td>0.994717</td>\n",
       "      <td>0.867696</td>\n",
       "      <td>0.843125</td>\n",
       "    </tr>\n",
       "    <tr>\n",
       "      <th>Grid_SVM</th>\n",
       "      <td>0.990427</td>\n",
       "      <td>0.990427</td>\n",
       "      <td>0.830176</td>\n",
       "      <td>0.809069</td>\n",
       "    </tr>\n",
       "  </tbody>\n",
       "</table>\n",
       "</div>"
      ],
      "text/plain": [
       "                   Normal_Simple_Acc  Normal_Nested_Acc  Unbiased_Simple_Acc  \\\n",
       "Grid_KNN                    0.980547           0.980516             0.779316   \n",
       "Grid_RandomForest           0.995304           0.994717             0.867696   \n",
       "Grid_SVM                    0.990427           0.990427             0.830176   \n",
       "\n",
       "                   Unbiased_Nested_Acc  \n",
       "Grid_KNN                      0.758358  \n",
       "Grid_RandomForest             0.843125  \n",
       "Grid_SVM                      0.809069  "
      ]
     },
     "execution_count": 9,
     "metadata": {},
     "output_type": "execute_result"
    }
   ],
   "source": [
    "step2_emd_acc_df"
   ]
  },
  {
   "cell_type": "markdown",
   "metadata": {},
   "source": [
    "#### eemd"
   ]
  },
  {
   "cell_type": "code",
   "execution_count": 10,
   "metadata": {},
   "outputs": [
    {
     "data": {
      "text/html": [
       "<div>\n",
       "<style>\n",
       "    .dataframe thead tr:only-child th {\n",
       "        text-align: right;\n",
       "    }\n",
       "\n",
       "    .dataframe thead th {\n",
       "        text-align: left;\n",
       "    }\n",
       "\n",
       "    .dataframe tbody tr th {\n",
       "        vertical-align: top;\n",
       "    }\n",
       "</style>\n",
       "<table border=\"1\" class=\"dataframe\">\n",
       "  <thead>\n",
       "    <tr style=\"text-align: right;\">\n",
       "      <th></th>\n",
       "      <th>Normal_Simple_Acc</th>\n",
       "      <th>Normal_Nested_Acc</th>\n",
       "      <th>Unbiased_Simple_Acc</th>\n",
       "      <th>Unbiased_Nested_Acc</th>\n",
       "    </tr>\n",
       "  </thead>\n",
       "  <tbody>\n",
       "    <tr>\n",
       "      <th>Grid_KNN</th>\n",
       "      <td>0.979974</td>\n",
       "      <td>0.979815</td>\n",
       "      <td>0.775771</td>\n",
       "      <td>0.752060</td>\n",
       "    </tr>\n",
       "    <tr>\n",
       "      <th>Grid_RandomForest</th>\n",
       "      <td>0.999109</td>\n",
       "      <td>0.998306</td>\n",
       "      <td>0.903067</td>\n",
       "      <td>0.883317</td>\n",
       "    </tr>\n",
       "    <tr>\n",
       "      <th>Grid_SVM</th>\n",
       "      <td>0.993161</td>\n",
       "      <td>0.993161</td>\n",
       "      <td>0.864240</td>\n",
       "      <td>0.843518</td>\n",
       "    </tr>\n",
       "  </tbody>\n",
       "</table>\n",
       "</div>"
      ],
      "text/plain": [
       "                   Normal_Simple_Acc  Normal_Nested_Acc  Unbiased_Simple_Acc  \\\n",
       "Grid_KNN                    0.979974           0.979815             0.775771   \n",
       "Grid_RandomForest           0.999109           0.998306             0.903067   \n",
       "Grid_SVM                    0.993161           0.993161             0.864240   \n",
       "\n",
       "                   Unbiased_Nested_Acc  \n",
       "Grid_KNN                      0.752060  \n",
       "Grid_RandomForest             0.883317  \n",
       "Grid_SVM                      0.843518  "
      ]
     },
     "execution_count": 10,
     "metadata": {},
     "output_type": "execute_result"
    }
   ],
   "source": [
    "step2_eemd_acc_df"
   ]
  },
  {
   "cell_type": "markdown",
   "metadata": {},
   "source": [
    "#### ceemdan"
   ]
  },
  {
   "cell_type": "code",
   "execution_count": 11,
   "metadata": {},
   "outputs": [
    {
     "data": {
      "text/html": [
       "<div>\n",
       "<style>\n",
       "    .dataframe thead tr:only-child th {\n",
       "        text-align: right;\n",
       "    }\n",
       "\n",
       "    .dataframe thead th {\n",
       "        text-align: left;\n",
       "    }\n",
       "\n",
       "    .dataframe tbody tr th {\n",
       "        vertical-align: top;\n",
       "    }\n",
       "</style>\n",
       "<table border=\"1\" class=\"dataframe\">\n",
       "  <thead>\n",
       "    <tr style=\"text-align: right;\">\n",
       "      <th></th>\n",
       "      <th>Normal_Simple_Acc</th>\n",
       "      <th>Normal_Nested_Acc</th>\n",
       "      <th>Unbiased_Simple_Acc</th>\n",
       "      <th>Unbiased_Nested_Acc</th>\n",
       "    </tr>\n",
       "  </thead>\n",
       "  <tbody>\n",
       "    <tr>\n",
       "      <th>Grid_KNN</th>\n",
       "      <td>0.980693</td>\n",
       "      <td>0.980447</td>\n",
       "      <td>0.812317</td>\n",
       "      <td>0.789523</td>\n",
       "    </tr>\n",
       "    <tr>\n",
       "      <th>Grid_RandomForest</th>\n",
       "      <td>0.999196</td>\n",
       "      <td>0.998513</td>\n",
       "      <td>0.905709</td>\n",
       "      <td>0.887619</td>\n",
       "    </tr>\n",
       "    <tr>\n",
       "      <th>Grid_SVM</th>\n",
       "      <td>0.990966</td>\n",
       "      <td>0.990966</td>\n",
       "      <td>0.857901</td>\n",
       "      <td>0.837960</td>\n",
       "    </tr>\n",
       "  </tbody>\n",
       "</table>\n",
       "</div>"
      ],
      "text/plain": [
       "                   Normal_Simple_Acc  Normal_Nested_Acc  Unbiased_Simple_Acc  \\\n",
       "Grid_KNN                    0.980693           0.980447             0.812317   \n",
       "Grid_RandomForest           0.999196           0.998513             0.905709   \n",
       "Grid_SVM                    0.990966           0.990966             0.857901   \n",
       "\n",
       "                   Unbiased_Nested_Acc  \n",
       "Grid_KNN                      0.789523  \n",
       "Grid_RandomForest             0.887619  \n",
       "Grid_SVM                      0.837960  "
      ]
     },
     "execution_count": 11,
     "metadata": {},
     "output_type": "execute_result"
    }
   ],
   "source": [
    "step2_ceemdan_acc_df"
   ]
  },
  {
   "cell_type": "markdown",
   "metadata": {},
   "source": [
    "### f1"
   ]
  },
  {
   "cell_type": "markdown",
   "metadata": {},
   "source": [
    "#### emd"
   ]
  },
  {
   "cell_type": "code",
   "execution_count": 12,
   "metadata": {},
   "outputs": [
    {
     "data": {
      "text/html": [
       "<div>\n",
       "<style>\n",
       "    .dataframe thead tr:only-child th {\n",
       "        text-align: right;\n",
       "    }\n",
       "\n",
       "    .dataframe thead th {\n",
       "        text-align: left;\n",
       "    }\n",
       "\n",
       "    .dataframe tbody tr th {\n",
       "        vertical-align: top;\n",
       "    }\n",
       "</style>\n",
       "<table border=\"1\" class=\"dataframe\">\n",
       "  <thead>\n",
       "    <tr style=\"text-align: right;\">\n",
       "      <th></th>\n",
       "      <th>Normal_Simple_F1</th>\n",
       "      <th>Normal_Nested_F1</th>\n",
       "      <th>Unbiased_Simple_F1</th>\n",
       "      <th>Unbiased_Nested_F1</th>\n",
       "    </tr>\n",
       "  </thead>\n",
       "  <tbody>\n",
       "    <tr>\n",
       "      <th>Grid_KNN</th>\n",
       "      <td>0.973066</td>\n",
       "      <td>0.972940</td>\n",
       "      <td>0.512406</td>\n",
       "      <td>0.473818</td>\n",
       "    </tr>\n",
       "    <tr>\n",
       "      <th>Grid_RandomForest</th>\n",
       "      <td>0.993629</td>\n",
       "      <td>0.992853</td>\n",
       "      <td>0.638262</td>\n",
       "      <td>0.588673</td>\n",
       "    </tr>\n",
       "    <tr>\n",
       "      <th>Grid_SVM</th>\n",
       "      <td>0.477273</td>\n",
       "      <td>0.987011</td>\n",
       "      <td>0.581191</td>\n",
       "      <td>0.538384</td>\n",
       "    </tr>\n",
       "  </tbody>\n",
       "</table>\n",
       "</div>"
      ],
      "text/plain": [
       "                   Normal_Simple_F1  Normal_Nested_F1  Unbiased_Simple_F1  \\\n",
       "Grid_KNN                   0.973066          0.972940            0.512406   \n",
       "Grid_RandomForest          0.993629          0.992853            0.638262   \n",
       "Grid_SVM                   0.477273          0.987011            0.581191   \n",
       "\n",
       "                   Unbiased_Nested_F1  \n",
       "Grid_KNN                     0.473818  \n",
       "Grid_RandomForest            0.588673  \n",
       "Grid_SVM                     0.538384  "
      ]
     },
     "execution_count": 12,
     "metadata": {},
     "output_type": "execute_result"
    }
   ],
   "source": [
    "step2_emd_f1_df"
   ]
  },
  {
   "cell_type": "markdown",
   "metadata": {},
   "source": [
    "#### eemd"
   ]
  },
  {
   "cell_type": "code",
   "execution_count": 13,
   "metadata": {},
   "outputs": [
    {
     "data": {
      "text/html": [
       "<div>\n",
       "<style>\n",
       "    .dataframe thead tr:only-child th {\n",
       "        text-align: right;\n",
       "    }\n",
       "\n",
       "    .dataframe thead th {\n",
       "        text-align: left;\n",
       "    }\n",
       "\n",
       "    .dataframe tbody tr th {\n",
       "        vertical-align: top;\n",
       "    }\n",
       "</style>\n",
       "<table border=\"1\" class=\"dataframe\">\n",
       "  <thead>\n",
       "    <tr style=\"text-align: right;\">\n",
       "      <th></th>\n",
       "      <th>Normal_Simple_F1</th>\n",
       "      <th>Normal_Nested_F1</th>\n",
       "      <th>Unbiased_Simple_F1</th>\n",
       "      <th>Unbiased_Nested_F1</th>\n",
       "    </tr>\n",
       "  </thead>\n",
       "  <tbody>\n",
       "    <tr>\n",
       "      <th>Grid_KNN</th>\n",
       "      <td>0.972740</td>\n",
       "      <td>0.972505</td>\n",
       "      <td>0.509040</td>\n",
       "      <td>0.478222</td>\n",
       "    </tr>\n",
       "    <tr>\n",
       "      <th>Grid_RandomForest</th>\n",
       "      <td>0.998860</td>\n",
       "      <td>0.997765</td>\n",
       "      <td>0.740823</td>\n",
       "      <td>0.700914</td>\n",
       "    </tr>\n",
       "    <tr>\n",
       "      <th>Grid_SVM</th>\n",
       "      <td>0.990819</td>\n",
       "      <td>0.990819</td>\n",
       "      <td>0.626559</td>\n",
       "      <td>0.591448</td>\n",
       "    </tr>\n",
       "  </tbody>\n",
       "</table>\n",
       "</div>"
      ],
      "text/plain": [
       "                   Normal_Simple_F1  Normal_Nested_F1  Unbiased_Simple_F1  \\\n",
       "Grid_KNN                   0.972740          0.972505            0.509040   \n",
       "Grid_RandomForest          0.998860          0.997765            0.740823   \n",
       "Grid_SVM                   0.990819          0.990819            0.626559   \n",
       "\n",
       "                   Unbiased_Nested_F1  \n",
       "Grid_KNN                     0.478222  \n",
       "Grid_RandomForest            0.700914  \n",
       "Grid_SVM                     0.591448  "
      ]
     },
     "execution_count": 13,
     "metadata": {},
     "output_type": "execute_result"
    }
   ],
   "source": [
    "step2_eemd_f1_df"
   ]
  },
  {
   "cell_type": "markdown",
   "metadata": {},
   "source": [
    "#### ceemdan"
   ]
  },
  {
   "cell_type": "code",
   "execution_count": 14,
   "metadata": {},
   "outputs": [
    {
     "data": {
      "text/html": [
       "<div>\n",
       "<style>\n",
       "    .dataframe thead tr:only-child th {\n",
       "        text-align: right;\n",
       "    }\n",
       "\n",
       "    .dataframe thead th {\n",
       "        text-align: left;\n",
       "    }\n",
       "\n",
       "    .dataframe tbody tr th {\n",
       "        vertical-align: top;\n",
       "    }\n",
       "</style>\n",
       "<table border=\"1\" class=\"dataframe\">\n",
       "  <thead>\n",
       "    <tr style=\"text-align: right;\">\n",
       "      <th></th>\n",
       "      <th>Normal_Simple_F1</th>\n",
       "      <th>Normal_Nested_F1</th>\n",
       "      <th>Unbiased_Simple_F1</th>\n",
       "      <th>Unbiased_Nested_F1</th>\n",
       "    </tr>\n",
       "  </thead>\n",
       "  <tbody>\n",
       "    <tr>\n",
       "      <th>Grid_KNN</th>\n",
       "      <td>0.973328</td>\n",
       "      <td>0.973027</td>\n",
       "      <td>0.545010</td>\n",
       "      <td>0.510992</td>\n",
       "    </tr>\n",
       "    <tr>\n",
       "      <th>Grid_RandomForest</th>\n",
       "      <td>0.999003</td>\n",
       "      <td>0.997964</td>\n",
       "      <td>0.753268</td>\n",
       "      <td>0.723523</td>\n",
       "    </tr>\n",
       "    <tr>\n",
       "      <th>Grid_SVM</th>\n",
       "      <td>0.987947</td>\n",
       "      <td>0.987947</td>\n",
       "      <td>0.629221</td>\n",
       "      <td>0.595501</td>\n",
       "    </tr>\n",
       "  </tbody>\n",
       "</table>\n",
       "</div>"
      ],
      "text/plain": [
       "                   Normal_Simple_F1  Normal_Nested_F1  Unbiased_Simple_F1  \\\n",
       "Grid_KNN                   0.973328          0.973027            0.545010   \n",
       "Grid_RandomForest          0.999003          0.997964            0.753268   \n",
       "Grid_SVM                   0.987947          0.987947            0.629221   \n",
       "\n",
       "                   Unbiased_Nested_F1  \n",
       "Grid_KNN                     0.510992  \n",
       "Grid_RandomForest            0.723523  \n",
       "Grid_SVM                     0.595501  "
      ]
     },
     "execution_count": 14,
     "metadata": {},
     "output_type": "execute_result"
    }
   ],
   "source": [
    "step2_ceemdan_f1_df"
   ]
  },
  {
   "cell_type": "markdown",
   "metadata": {},
   "source": [
    "# step3"
   ]
  },
  {
   "cell_type": "markdown",
   "metadata": {},
   "source": [
    "### acc"
   ]
  },
  {
   "cell_type": "markdown",
   "metadata": {},
   "source": [
    "#### emd"
   ]
  },
  {
   "cell_type": "code",
   "execution_count": 15,
   "metadata": {},
   "outputs": [
    {
     "data": {
      "text/html": [
       "<div>\n",
       "<style>\n",
       "    .dataframe thead tr:only-child th {\n",
       "        text-align: right;\n",
       "    }\n",
       "\n",
       "    .dataframe thead th {\n",
       "        text-align: left;\n",
       "    }\n",
       "\n",
       "    .dataframe tbody tr th {\n",
       "        vertical-align: top;\n",
       "    }\n",
       "</style>\n",
       "<table border=\"1\" class=\"dataframe\">\n",
       "  <thead>\n",
       "    <tr style=\"text-align: right;\">\n",
       "      <th></th>\n",
       "      <th>Normal_Nested_Acc</th>\n",
       "      <th>Unbiased_Nested_Acc</th>\n",
       "    </tr>\n",
       "  </thead>\n",
       "  <tbody>\n",
       "    <tr>\n",
       "      <th>Grid_KNN</th>\n",
       "      <td>0.989510</td>\n",
       "      <td>0.782635</td>\n",
       "    </tr>\n",
       "    <tr>\n",
       "      <th>Grid_RandomForest</th>\n",
       "      <td>0.994533</td>\n",
       "      <td>0.846549</td>\n",
       "    </tr>\n",
       "    <tr>\n",
       "      <th>Grid_SVM</th>\n",
       "      <td>0.963226</td>\n",
       "      <td>0.758523</td>\n",
       "    </tr>\n",
       "  </tbody>\n",
       "</table>\n",
       "</div>"
      ],
      "text/plain": [
       "                   Normal_Nested_Acc  Unbiased_Nested_Acc\n",
       "Grid_KNN                    0.989510             0.782635\n",
       "Grid_RandomForest           0.994533             0.846549\n",
       "Grid_SVM                    0.963226             0.758523"
      ]
     },
     "execution_count": 15,
     "metadata": {},
     "output_type": "execute_result"
    }
   ],
   "source": [
    "step3_emd_acc_df"
   ]
  },
  {
   "cell_type": "markdown",
   "metadata": {},
   "source": [
    "#### eemd"
   ]
  },
  {
   "cell_type": "code",
   "execution_count": 16,
   "metadata": {},
   "outputs": [
    {
     "data": {
      "text/html": [
       "<div>\n",
       "<style>\n",
       "    .dataframe thead tr:only-child th {\n",
       "        text-align: right;\n",
       "    }\n",
       "\n",
       "    .dataframe thead th {\n",
       "        text-align: left;\n",
       "    }\n",
       "\n",
       "    .dataframe tbody tr th {\n",
       "        vertical-align: top;\n",
       "    }\n",
       "</style>\n",
       "<table border=\"1\" class=\"dataframe\">\n",
       "  <thead>\n",
       "    <tr style=\"text-align: right;\">\n",
       "      <th></th>\n",
       "      <th>Normal_Nested_Acc</th>\n",
       "      <th>Unbiased_Nested_Acc</th>\n",
       "    </tr>\n",
       "  </thead>\n",
       "  <tbody>\n",
       "    <tr>\n",
       "      <th>Grid_KNN</th>\n",
       "      <td>0.990637</td>\n",
       "      <td>0.801127</td>\n",
       "    </tr>\n",
       "    <tr>\n",
       "      <th>Grid_RandomForest</th>\n",
       "      <td>0.998367</td>\n",
       "      <td>0.887035</td>\n",
       "    </tr>\n",
       "    <tr>\n",
       "      <th>Grid_SVM</th>\n",
       "      <td>0.976763</td>\n",
       "      <td>0.753644</td>\n",
       "    </tr>\n",
       "  </tbody>\n",
       "</table>\n",
       "</div>"
      ],
      "text/plain": [
       "                   Normal_Nested_Acc  Unbiased_Nested_Acc\n",
       "Grid_KNN                    0.990637             0.801127\n",
       "Grid_RandomForest           0.998367             0.887035\n",
       "Grid_SVM                    0.976763             0.753644"
      ]
     },
     "execution_count": 16,
     "metadata": {},
     "output_type": "execute_result"
    }
   ],
   "source": [
    "step3_eemd_acc_df"
   ]
  },
  {
   "cell_type": "markdown",
   "metadata": {},
   "source": [
    "#### ceemdan"
   ]
  },
  {
   "cell_type": "code",
   "execution_count": 17,
   "metadata": {},
   "outputs": [
    {
     "data": {
      "text/html": [
       "<div>\n",
       "<style>\n",
       "    .dataframe thead tr:only-child th {\n",
       "        text-align: right;\n",
       "    }\n",
       "\n",
       "    .dataframe thead th {\n",
       "        text-align: left;\n",
       "    }\n",
       "\n",
       "    .dataframe tbody tr th {\n",
       "        vertical-align: top;\n",
       "    }\n",
       "</style>\n",
       "<table border=\"1\" class=\"dataframe\">\n",
       "  <thead>\n",
       "    <tr style=\"text-align: right;\">\n",
       "      <th></th>\n",
       "      <th>Normal_Nested_Acc</th>\n",
       "      <th>Unbiased_Nested_Acc</th>\n",
       "    </tr>\n",
       "  </thead>\n",
       "  <tbody>\n",
       "    <tr>\n",
       "      <th>Grid_KNN</th>\n",
       "      <td>0.993815</td>\n",
       "      <td>0.738147</td>\n",
       "    </tr>\n",
       "    <tr>\n",
       "      <th>Grid_RandomForest</th>\n",
       "      <td>0.998482</td>\n",
       "      <td>0.888796</td>\n",
       "    </tr>\n",
       "    <tr>\n",
       "      <th>Grid_SVM</th>\n",
       "      <td>0.973402</td>\n",
       "      <td>0.756061</td>\n",
       "    </tr>\n",
       "  </tbody>\n",
       "</table>\n",
       "</div>"
      ],
      "text/plain": [
       "                   Normal_Nested_Acc  Unbiased_Nested_Acc\n",
       "Grid_KNN                    0.993815             0.738147\n",
       "Grid_RandomForest           0.998482             0.888796\n",
       "Grid_SVM                    0.973402             0.756061"
      ]
     },
     "execution_count": 17,
     "metadata": {},
     "output_type": "execute_result"
    }
   ],
   "source": [
    "step3_ceemdan_acc_df"
   ]
  },
  {
   "cell_type": "markdown",
   "metadata": {},
   "source": [
    "### f1"
   ]
  },
  {
   "cell_type": "markdown",
   "metadata": {},
   "source": [
    "#### emd"
   ]
  },
  {
   "cell_type": "code",
   "execution_count": 18,
   "metadata": {},
   "outputs": [
    {
     "data": {
      "text/html": [
       "<div>\n",
       "<style>\n",
       "    .dataframe thead tr:only-child th {\n",
       "        text-align: right;\n",
       "    }\n",
       "\n",
       "    .dataframe thead th {\n",
       "        text-align: left;\n",
       "    }\n",
       "\n",
       "    .dataframe tbody tr th {\n",
       "        vertical-align: top;\n",
       "    }\n",
       "</style>\n",
       "<table border=\"1\" class=\"dataframe\">\n",
       "  <thead>\n",
       "    <tr style=\"text-align: right;\">\n",
       "      <th></th>\n",
       "      <th>Normal_Nested_F1</th>\n",
       "      <th>Unbiased_Nested_F1</th>\n",
       "    </tr>\n",
       "  </thead>\n",
       "  <tbody>\n",
       "    <tr>\n",
       "      <th>Grid_KNN</th>\n",
       "      <td>0.986041</td>\n",
       "      <td>0.484065</td>\n",
       "    </tr>\n",
       "    <tr>\n",
       "      <th>Grid_RandomForest</th>\n",
       "      <td>0.992446</td>\n",
       "      <td>0.596504</td>\n",
       "    </tr>\n",
       "    <tr>\n",
       "      <th>Grid_SVM</th>\n",
       "      <td>0.961923</td>\n",
       "      <td>0.507506</td>\n",
       "    </tr>\n",
       "  </tbody>\n",
       "</table>\n",
       "</div>"
      ],
      "text/plain": [
       "                   Normal_Nested_F1  Unbiased_Nested_F1\n",
       "Grid_KNN                   0.986041            0.484065\n",
       "Grid_RandomForest          0.992446            0.596504\n",
       "Grid_SVM                   0.961923            0.507506"
      ]
     },
     "execution_count": 18,
     "metadata": {},
     "output_type": "execute_result"
    }
   ],
   "source": [
    "step3_emd_f1_df"
   ]
  },
  {
   "cell_type": "markdown",
   "metadata": {},
   "source": [
    "#### eemd"
   ]
  },
  {
   "cell_type": "code",
   "execution_count": 19,
   "metadata": {},
   "outputs": [
    {
     "data": {
      "text/html": [
       "<div>\n",
       "<style>\n",
       "    .dataframe thead tr:only-child th {\n",
       "        text-align: right;\n",
       "    }\n",
       "\n",
       "    .dataframe thead th {\n",
       "        text-align: left;\n",
       "    }\n",
       "\n",
       "    .dataframe tbody tr th {\n",
       "        vertical-align: top;\n",
       "    }\n",
       "</style>\n",
       "<table border=\"1\" class=\"dataframe\">\n",
       "  <thead>\n",
       "    <tr style=\"text-align: right;\">\n",
       "      <th></th>\n",
       "      <th>Normal_Nested_F1</th>\n",
       "      <th>Unbiased_Nested_F1</th>\n",
       "    </tr>\n",
       "  </thead>\n",
       "  <tbody>\n",
       "    <tr>\n",
       "      <th>Grid_KNN</th>\n",
       "      <td>0.987318</td>\n",
       "      <td>0.565500</td>\n",
       "    </tr>\n",
       "    <tr>\n",
       "      <th>Grid_RandomForest</th>\n",
       "      <td>0.998007</td>\n",
       "      <td>0.696774</td>\n",
       "    </tr>\n",
       "    <tr>\n",
       "      <th>Grid_SVM</th>\n",
       "      <td>0.975562</td>\n",
       "      <td>0.519652</td>\n",
       "    </tr>\n",
       "  </tbody>\n",
       "</table>\n",
       "</div>"
      ],
      "text/plain": [
       "                   Normal_Nested_F1  Unbiased_Nested_F1\n",
       "Grid_KNN                   0.987318            0.565500\n",
       "Grid_RandomForest          0.998007            0.696774\n",
       "Grid_SVM                   0.975562            0.519652"
      ]
     },
     "execution_count": 19,
     "metadata": {},
     "output_type": "execute_result"
    }
   ],
   "source": [
    "step3_eemd_f1_df"
   ]
  },
  {
   "cell_type": "markdown",
   "metadata": {},
   "source": [
    "#### ceemdan"
   ]
  },
  {
   "cell_type": "code",
   "execution_count": 20,
   "metadata": {},
   "outputs": [
    {
     "data": {
      "text/html": [
       "<div>\n",
       "<style>\n",
       "    .dataframe thead tr:only-child th {\n",
       "        text-align: right;\n",
       "    }\n",
       "\n",
       "    .dataframe thead th {\n",
       "        text-align: left;\n",
       "    }\n",
       "\n",
       "    .dataframe tbody tr th {\n",
       "        vertical-align: top;\n",
       "    }\n",
       "</style>\n",
       "<table border=\"1\" class=\"dataframe\">\n",
       "  <thead>\n",
       "    <tr style=\"text-align: right;\">\n",
       "      <th></th>\n",
       "      <th>Normal_Nested_F1</th>\n",
       "      <th>Unbiased_Nested_F1</th>\n",
       "    </tr>\n",
       "  </thead>\n",
       "  <tbody>\n",
       "    <tr>\n",
       "      <th>Grid_KNN</th>\n",
       "      <td>0.991198</td>\n",
       "      <td>0.481510</td>\n",
       "    </tr>\n",
       "    <tr>\n",
       "      <th>Grid_RandomForest</th>\n",
       "      <td>0.997891</td>\n",
       "      <td>0.725242</td>\n",
       "    </tr>\n",
       "    <tr>\n",
       "      <th>Grid_SVM</th>\n",
       "      <td>0.971509</td>\n",
       "      <td>0.533182</td>\n",
       "    </tr>\n",
       "  </tbody>\n",
       "</table>\n",
       "</div>"
      ],
      "text/plain": [
       "                   Normal_Nested_F1  Unbiased_Nested_F1\n",
       "Grid_KNN                   0.991198            0.481510\n",
       "Grid_RandomForest          0.997891            0.725242\n",
       "Grid_SVM                   0.971509            0.533182"
      ]
     },
     "execution_count": 20,
     "metadata": {},
     "output_type": "execute_result"
    }
   ],
   "source": [
    "step3_ceemdan_f1_df"
   ]
  },
  {
   "cell_type": "markdown",
   "metadata": {},
   "source": [
    "# All steps"
   ]
  },
  {
   "cell_type": "markdown",
   "metadata": {},
   "source": [
    "### acc"
   ]
  },
  {
   "cell_type": "markdown",
   "metadata": {},
   "source": [
    "#### emd"
   ]
  },
  {
   "cell_type": "code",
   "execution_count": 21,
   "metadata": {},
   "outputs": [
    {
     "data": {
      "text/html": [
       "<div>\n",
       "<style>\n",
       "    .dataframe thead tr:only-child th {\n",
       "        text-align: right;\n",
       "    }\n",
       "\n",
       "    .dataframe thead th {\n",
       "        text-align: left;\n",
       "    }\n",
       "\n",
       "    .dataframe tbody tr th {\n",
       "        vertical-align: top;\n",
       "    }\n",
       "</style>\n",
       "<table border=\"1\" class=\"dataframe\">\n",
       "  <thead>\n",
       "    <tr style=\"text-align: right;\">\n",
       "      <th></th>\n",
       "      <th>Step1_Normal_Acc</th>\n",
       "      <th>Step2_Normal_Acc</th>\n",
       "      <th>Step3_Normal_Acc</th>\n",
       "      <th>Step1_Unbiased_Acc</th>\n",
       "      <th>Step2_Unbiased_Acc</th>\n",
       "      <th>Step3_Unbiased_Acc</th>\n",
       "    </tr>\n",
       "  </thead>\n",
       "  <tbody>\n",
       "    <tr>\n",
       "      <th>KNN / Grid_KNN</th>\n",
       "      <td>0.980516</td>\n",
       "      <td>0.980516</td>\n",
       "      <td>0.989510</td>\n",
       "      <td>0.763499</td>\n",
       "      <td>0.758358</td>\n",
       "      <td>0.782635</td>\n",
       "    </tr>\n",
       "    <tr>\n",
       "      <th>RandomForest / Grid_RandomForest</th>\n",
       "      <td>0.988472</td>\n",
       "      <td>0.994717</td>\n",
       "      <td>0.994533</td>\n",
       "      <td>0.822526</td>\n",
       "      <td>0.843125</td>\n",
       "      <td>0.846549</td>\n",
       "    </tr>\n",
       "    <tr>\n",
       "      <th>SVM / Grid_SVM</th>\n",
       "      <td>0.233047</td>\n",
       "      <td>0.990427</td>\n",
       "      <td>0.963226</td>\n",
       "      <td>0.137103</td>\n",
       "      <td>0.809069</td>\n",
       "      <td>0.758523</td>\n",
       "    </tr>\n",
       "  </tbody>\n",
       "</table>\n",
       "</div>"
      ],
      "text/plain": [
       "                                  Step1_Normal_Acc  Step2_Normal_Acc  \\\n",
       "KNN / Grid_KNN                            0.980516          0.980516   \n",
       "RandomForest / Grid_RandomForest          0.988472          0.994717   \n",
       "SVM / Grid_SVM                            0.233047          0.990427   \n",
       "\n",
       "                                  Step3_Normal_Acc  Step1_Unbiased_Acc  \\\n",
       "KNN / Grid_KNN                            0.989510            0.763499   \n",
       "RandomForest / Grid_RandomForest          0.994533            0.822526   \n",
       "SVM / Grid_SVM                            0.963226            0.137103   \n",
       "\n",
       "                                  Step2_Unbiased_Acc  Step3_Unbiased_Acc  \n",
       "KNN / Grid_KNN                              0.758358            0.782635  \n",
       "RandomForest / Grid_RandomForest            0.843125            0.846549  \n",
       "SVM / Grid_SVM                              0.809069            0.758523  "
      ]
     },
     "execution_count": 21,
     "metadata": {},
     "output_type": "execute_result"
    }
   ],
   "source": [
    "merge_all_steps('acc', step1_emd_acc_df, step2_emd_acc_df, step3_emd_acc_df)"
   ]
  },
  {
   "cell_type": "markdown",
   "metadata": {},
   "source": [
    "#### eemd"
   ]
  },
  {
   "cell_type": "code",
   "execution_count": 22,
   "metadata": {},
   "outputs": [
    {
     "data": {
      "text/html": [
       "<div>\n",
       "<style>\n",
       "    .dataframe thead tr:only-child th {\n",
       "        text-align: right;\n",
       "    }\n",
       "\n",
       "    .dataframe thead th {\n",
       "        text-align: left;\n",
       "    }\n",
       "\n",
       "    .dataframe tbody tr th {\n",
       "        vertical-align: top;\n",
       "    }\n",
       "</style>\n",
       "<table border=\"1\" class=\"dataframe\">\n",
       "  <thead>\n",
       "    <tr style=\"text-align: right;\">\n",
       "      <th></th>\n",
       "      <th>Step1_Normal_Acc</th>\n",
       "      <th>Step2_Normal_Acc</th>\n",
       "      <th>Step3_Normal_Acc</th>\n",
       "      <th>Step1_Unbiased_Acc</th>\n",
       "      <th>Step2_Unbiased_Acc</th>\n",
       "      <th>Step3_Unbiased_Acc</th>\n",
       "    </tr>\n",
       "  </thead>\n",
       "  <tbody>\n",
       "    <tr>\n",
       "      <th>KNN / Grid_KNN</th>\n",
       "      <td>0.979815</td>\n",
       "      <td>0.979815</td>\n",
       "      <td>0.990637</td>\n",
       "      <td>0.761607</td>\n",
       "      <td>0.752060</td>\n",
       "      <td>0.801127</td>\n",
       "    </tr>\n",
       "    <tr>\n",
       "      <th>RandomForest / Grid_RandomForest</th>\n",
       "      <td>0.995800</td>\n",
       "      <td>0.998306</td>\n",
       "      <td>0.998367</td>\n",
       "      <td>0.874571</td>\n",
       "      <td>0.883317</td>\n",
       "      <td>0.887035</td>\n",
       "    </tr>\n",
       "    <tr>\n",
       "      <th>SVM / Grid_SVM</th>\n",
       "      <td>0.236986</td>\n",
       "      <td>0.993161</td>\n",
       "      <td>0.976763</td>\n",
       "      <td>0.141623</td>\n",
       "      <td>0.843518</td>\n",
       "      <td>0.753644</td>\n",
       "    </tr>\n",
       "  </tbody>\n",
       "</table>\n",
       "</div>"
      ],
      "text/plain": [
       "                                  Step1_Normal_Acc  Step2_Normal_Acc  \\\n",
       "KNN / Grid_KNN                            0.979815          0.979815   \n",
       "RandomForest / Grid_RandomForest          0.995800          0.998306   \n",
       "SVM / Grid_SVM                            0.236986          0.993161   \n",
       "\n",
       "                                  Step3_Normal_Acc  Step1_Unbiased_Acc  \\\n",
       "KNN / Grid_KNN                            0.990637            0.761607   \n",
       "RandomForest / Grid_RandomForest          0.998367            0.874571   \n",
       "SVM / Grid_SVM                            0.976763            0.141623   \n",
       "\n",
       "                                  Step2_Unbiased_Acc  Step3_Unbiased_Acc  \n",
       "KNN / Grid_KNN                              0.752060            0.801127  \n",
       "RandomForest / Grid_RandomForest            0.883317            0.887035  \n",
       "SVM / Grid_SVM                              0.843518            0.753644  "
      ]
     },
     "execution_count": 22,
     "metadata": {},
     "output_type": "execute_result"
    }
   ],
   "source": [
    "merge_all_steps('acc', step1_eemd_acc_df, step2_eemd_acc_df, step3_eemd_acc_df)"
   ]
  },
  {
   "cell_type": "markdown",
   "metadata": {},
   "source": [
    "#### ceemdan"
   ]
  },
  {
   "cell_type": "code",
   "execution_count": 23,
   "metadata": {},
   "outputs": [
    {
     "data": {
      "text/html": [
       "<div>\n",
       "<style>\n",
       "    .dataframe thead tr:only-child th {\n",
       "        text-align: right;\n",
       "    }\n",
       "\n",
       "    .dataframe thead th {\n",
       "        text-align: left;\n",
       "    }\n",
       "\n",
       "    .dataframe tbody tr th {\n",
       "        vertical-align: top;\n",
       "    }\n",
       "</style>\n",
       "<table border=\"1\" class=\"dataframe\">\n",
       "  <thead>\n",
       "    <tr style=\"text-align: right;\">\n",
       "      <th></th>\n",
       "      <th>Step1_Normal_Acc</th>\n",
       "      <th>Step2_Normal_Acc</th>\n",
       "      <th>Step3_Normal_Acc</th>\n",
       "      <th>Step1_Unbiased_Acc</th>\n",
       "      <th>Step2_Unbiased_Acc</th>\n",
       "      <th>Step3_Unbiased_Acc</th>\n",
       "    </tr>\n",
       "  </thead>\n",
       "  <tbody>\n",
       "    <tr>\n",
       "      <th>KNN / Grid_KNN</th>\n",
       "      <td>0.980446</td>\n",
       "      <td>0.980447</td>\n",
       "      <td>0.993815</td>\n",
       "      <td>0.792479</td>\n",
       "      <td>0.789523</td>\n",
       "      <td>0.738147</td>\n",
       "    </tr>\n",
       "    <tr>\n",
       "      <th>RandomForest / Grid_RandomForest</th>\n",
       "      <td>0.997300</td>\n",
       "      <td>0.998513</td>\n",
       "      <td>0.998482</td>\n",
       "      <td>0.874954</td>\n",
       "      <td>0.887619</td>\n",
       "      <td>0.888796</td>\n",
       "    </tr>\n",
       "    <tr>\n",
       "      <th>SVM / Grid_SVM</th>\n",
       "      <td>0.238774</td>\n",
       "      <td>0.990966</td>\n",
       "      <td>0.973402</td>\n",
       "      <td>0.143487</td>\n",
       "      <td>0.837960</td>\n",
       "      <td>0.756061</td>\n",
       "    </tr>\n",
       "  </tbody>\n",
       "</table>\n",
       "</div>"
      ],
      "text/plain": [
       "                                  Step1_Normal_Acc  Step2_Normal_Acc  \\\n",
       "KNN / Grid_KNN                            0.980446          0.980447   \n",
       "RandomForest / Grid_RandomForest          0.997300          0.998513   \n",
       "SVM / Grid_SVM                            0.238774          0.990966   \n",
       "\n",
       "                                  Step3_Normal_Acc  Step1_Unbiased_Acc  \\\n",
       "KNN / Grid_KNN                            0.993815            0.792479   \n",
       "RandomForest / Grid_RandomForest          0.998482            0.874954   \n",
       "SVM / Grid_SVM                            0.973402            0.143487   \n",
       "\n",
       "                                  Step2_Unbiased_Acc  Step3_Unbiased_Acc  \n",
       "KNN / Grid_KNN                              0.789523            0.738147  \n",
       "RandomForest / Grid_RandomForest            0.887619            0.888796  \n",
       "SVM / Grid_SVM                              0.837960            0.756061  "
      ]
     },
     "execution_count": 23,
     "metadata": {},
     "output_type": "execute_result"
    }
   ],
   "source": [
    "merge_all_steps('acc', step1_ceemdan_acc_df, step2_ceemdan_acc_df, step3_ceemdan_acc_df)"
   ]
  },
  {
   "cell_type": "markdown",
   "metadata": {},
   "source": [
    "### f1"
   ]
  },
  {
   "cell_type": "markdown",
   "metadata": {},
   "source": [
    "#### emd"
   ]
  },
  {
   "cell_type": "code",
   "execution_count": 24,
   "metadata": {},
   "outputs": [
    {
     "data": {
      "text/html": [
       "<div>\n",
       "<style>\n",
       "    .dataframe thead tr:only-child th {\n",
       "        text-align: right;\n",
       "    }\n",
       "\n",
       "    .dataframe thead th {\n",
       "        text-align: left;\n",
       "    }\n",
       "\n",
       "    .dataframe tbody tr th {\n",
       "        vertical-align: top;\n",
       "    }\n",
       "</style>\n",
       "<table border=\"1\" class=\"dataframe\">\n",
       "  <thead>\n",
       "    <tr style=\"text-align: right;\">\n",
       "      <th></th>\n",
       "      <th>Step1_Normal_F1</th>\n",
       "      <th>Step2_Normal_F1</th>\n",
       "      <th>Step3_Normal_F1</th>\n",
       "      <th>Step1_Unbiased_F1</th>\n",
       "      <th>Step2_Unbiased_F1</th>\n",
       "      <th>Step3_Unbiased_F1</th>\n",
       "    </tr>\n",
       "  </thead>\n",
       "  <tbody>\n",
       "    <tr>\n",
       "      <th>KNN / Grid_KNN</th>\n",
       "      <td>0.972940</td>\n",
       "      <td>0.972940</td>\n",
       "      <td>0.986041</td>\n",
       "      <td>0.485018</td>\n",
       "      <td>0.473818</td>\n",
       "      <td>0.484065</td>\n",
       "    </tr>\n",
       "    <tr>\n",
       "      <th>RandomForest / Grid_RandomForest</th>\n",
       "      <td>0.984794</td>\n",
       "      <td>0.992853</td>\n",
       "      <td>0.992446</td>\n",
       "      <td>0.545623</td>\n",
       "      <td>0.588673</td>\n",
       "      <td>0.596504</td>\n",
       "    </tr>\n",
       "    <tr>\n",
       "      <th>SVM / Grid_SVM</th>\n",
       "      <td>0.090052</td>\n",
       "      <td>0.987011</td>\n",
       "      <td>0.961923</td>\n",
       "      <td>0.097579</td>\n",
       "      <td>0.538384</td>\n",
       "      <td>0.507506</td>\n",
       "    </tr>\n",
       "  </tbody>\n",
       "</table>\n",
       "</div>"
      ],
      "text/plain": [
       "                                  Step1_Normal_F1  Step2_Normal_F1  \\\n",
       "KNN / Grid_KNN                           0.972940         0.972940   \n",
       "RandomForest / Grid_RandomForest         0.984794         0.992853   \n",
       "SVM / Grid_SVM                           0.090052         0.987011   \n",
       "\n",
       "                                  Step3_Normal_F1  Step1_Unbiased_F1  \\\n",
       "KNN / Grid_KNN                           0.986041           0.485018   \n",
       "RandomForest / Grid_RandomForest         0.992446           0.545623   \n",
       "SVM / Grid_SVM                           0.961923           0.097579   \n",
       "\n",
       "                                  Step2_Unbiased_F1  Step3_Unbiased_F1  \n",
       "KNN / Grid_KNN                             0.473818           0.484065  \n",
       "RandomForest / Grid_RandomForest           0.588673           0.596504  \n",
       "SVM / Grid_SVM                             0.538384           0.507506  "
      ]
     },
     "execution_count": 24,
     "metadata": {},
     "output_type": "execute_result"
    }
   ],
   "source": [
    "merge_all_steps('f1', step1_emd_f1_df, step2_emd_f1_df, step3_emd_f1_df)"
   ]
  },
  {
   "cell_type": "markdown",
   "metadata": {},
   "source": [
    "#### eemd"
   ]
  },
  {
   "cell_type": "code",
   "execution_count": 25,
   "metadata": {},
   "outputs": [
    {
     "data": {
      "text/html": [
       "<div>\n",
       "<style>\n",
       "    .dataframe thead tr:only-child th {\n",
       "        text-align: right;\n",
       "    }\n",
       "\n",
       "    .dataframe thead th {\n",
       "        text-align: left;\n",
       "    }\n",
       "\n",
       "    .dataframe tbody tr th {\n",
       "        vertical-align: top;\n",
       "    }\n",
       "</style>\n",
       "<table border=\"1\" class=\"dataframe\">\n",
       "  <thead>\n",
       "    <tr style=\"text-align: right;\">\n",
       "      <th></th>\n",
       "      <th>Step1_Normal_F1</th>\n",
       "      <th>Step2_Normal_F1</th>\n",
       "      <th>Step3_Normal_F1</th>\n",
       "      <th>Step1_Unbiased_F1</th>\n",
       "      <th>Step2_Unbiased_F1</th>\n",
       "      <th>Step3_Unbiased_F1</th>\n",
       "    </tr>\n",
       "  </thead>\n",
       "  <tbody>\n",
       "    <tr>\n",
       "      <th>KNN / Grid_KNN</th>\n",
       "      <td>0.972506</td>\n",
       "      <td>0.972505</td>\n",
       "      <td>0.987318</td>\n",
       "      <td>0.489975</td>\n",
       "      <td>0.478222</td>\n",
       "      <td>0.565500</td>\n",
       "    </tr>\n",
       "    <tr>\n",
       "      <th>RandomForest / Grid_RandomForest</th>\n",
       "      <td>0.994675</td>\n",
       "      <td>0.997765</td>\n",
       "      <td>0.998007</td>\n",
       "      <td>0.642929</td>\n",
       "      <td>0.700914</td>\n",
       "      <td>0.696774</td>\n",
       "    </tr>\n",
       "    <tr>\n",
       "      <th>SVM / Grid_SVM</th>\n",
       "      <td>0.091704</td>\n",
       "      <td>0.990819</td>\n",
       "      <td>0.975562</td>\n",
       "      <td>0.101340</td>\n",
       "      <td>0.591448</td>\n",
       "      <td>0.519652</td>\n",
       "    </tr>\n",
       "  </tbody>\n",
       "</table>\n",
       "</div>"
      ],
      "text/plain": [
       "                                  Step1_Normal_F1  Step2_Normal_F1  \\\n",
       "KNN / Grid_KNN                           0.972506         0.972505   \n",
       "RandomForest / Grid_RandomForest         0.994675         0.997765   \n",
       "SVM / Grid_SVM                           0.091704         0.990819   \n",
       "\n",
       "                                  Step3_Normal_F1  Step1_Unbiased_F1  \\\n",
       "KNN / Grid_KNN                           0.987318           0.489975   \n",
       "RandomForest / Grid_RandomForest         0.998007           0.642929   \n",
       "SVM / Grid_SVM                           0.975562           0.101340   \n",
       "\n",
       "                                  Step2_Unbiased_F1  Step3_Unbiased_F1  \n",
       "KNN / Grid_KNN                             0.478222           0.565500  \n",
       "RandomForest / Grid_RandomForest           0.700914           0.696774  \n",
       "SVM / Grid_SVM                             0.591448           0.519652  "
      ]
     },
     "execution_count": 25,
     "metadata": {},
     "output_type": "execute_result"
    }
   ],
   "source": [
    "merge_all_steps('f1', step1_eemd_f1_df, step2_eemd_f1_df, step3_eemd_f1_df)"
   ]
  },
  {
   "cell_type": "markdown",
   "metadata": {},
   "source": [
    "#### ceemdan"
   ]
  },
  {
   "cell_type": "code",
   "execution_count": 26,
   "metadata": {},
   "outputs": [
    {
     "data": {
      "text/html": [
       "<div>\n",
       "<style>\n",
       "    .dataframe thead tr:only-child th {\n",
       "        text-align: right;\n",
       "    }\n",
       "\n",
       "    .dataframe thead th {\n",
       "        text-align: left;\n",
       "    }\n",
       "\n",
       "    .dataframe tbody tr th {\n",
       "        vertical-align: top;\n",
       "    }\n",
       "</style>\n",
       "<table border=\"1\" class=\"dataframe\">\n",
       "  <thead>\n",
       "    <tr style=\"text-align: right;\">\n",
       "      <th></th>\n",
       "      <th>Step1_Normal_F1</th>\n",
       "      <th>Step2_Normal_F1</th>\n",
       "      <th>Step3_Normal_F1</th>\n",
       "      <th>Step1_Unbiased_F1</th>\n",
       "      <th>Step2_Unbiased_F1</th>\n",
       "      <th>Step3_Unbiased_F1</th>\n",
       "    </tr>\n",
       "  </thead>\n",
       "  <tbody>\n",
       "    <tr>\n",
       "      <th>KNN / Grid_KNN</th>\n",
       "      <td>0.973027</td>\n",
       "      <td>0.973027</td>\n",
       "      <td>0.991198</td>\n",
       "      <td>0.518179</td>\n",
       "      <td>0.510992</td>\n",
       "      <td>0.481510</td>\n",
       "    </tr>\n",
       "    <tr>\n",
       "      <th>RandomForest / Grid_RandomForest</th>\n",
       "      <td>0.996275</td>\n",
       "      <td>0.997964</td>\n",
       "      <td>0.997891</td>\n",
       "      <td>0.660370</td>\n",
       "      <td>0.723523</td>\n",
       "      <td>0.725242</td>\n",
       "    </tr>\n",
       "    <tr>\n",
       "      <th>SVM / Grid_SVM</th>\n",
       "      <td>0.092498</td>\n",
       "      <td>0.987947</td>\n",
       "      <td>0.971509</td>\n",
       "      <td>0.103075</td>\n",
       "      <td>0.595501</td>\n",
       "      <td>0.533182</td>\n",
       "    </tr>\n",
       "  </tbody>\n",
       "</table>\n",
       "</div>"
      ],
      "text/plain": [
       "                                  Step1_Normal_F1  Step2_Normal_F1  \\\n",
       "KNN / Grid_KNN                           0.973027         0.973027   \n",
       "RandomForest / Grid_RandomForest         0.996275         0.997964   \n",
       "SVM / Grid_SVM                           0.092498         0.987947   \n",
       "\n",
       "                                  Step3_Normal_F1  Step1_Unbiased_F1  \\\n",
       "KNN / Grid_KNN                           0.991198           0.518179   \n",
       "RandomForest / Grid_RandomForest         0.997891           0.660370   \n",
       "SVM / Grid_SVM                           0.971509           0.103075   \n",
       "\n",
       "                                  Step2_Unbiased_F1  Step3_Unbiased_F1  \n",
       "KNN / Grid_KNN                             0.510992           0.481510  \n",
       "RandomForest / Grid_RandomForest           0.723523           0.725242  \n",
       "SVM / Grid_SVM                             0.595501           0.533182  "
      ]
     },
     "execution_count": 26,
     "metadata": {},
     "output_type": "execute_result"
    }
   ],
   "source": [
    "merge_all_steps('f1', step1_ceemdan_f1_df, step2_ceemdan_f1_df, step3_ceemdan_f1_df)"
   ]
  }
 ],
 "metadata": {
  "kernelspec": {
   "display_name": "Python [default]",
   "language": "python",
   "name": "python2"
  },
  "language_info": {
   "codemirror_mode": {
    "name": "ipython",
    "version": 2
   },
   "file_extension": ".py",
   "mimetype": "text/x-python",
   "name": "python",
   "nbconvert_exporter": "python",
   "pygments_lexer": "ipython2",
   "version": "2.7.13"
  }
 },
 "nbformat": 4,
 "nbformat_minor": 2
}
