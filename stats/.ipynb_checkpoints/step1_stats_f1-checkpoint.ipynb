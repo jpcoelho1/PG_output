{
 "cells": [
  {
   "cell_type": "code",
   "execution_count": 1,
   "metadata": {
    "collapsed": true
   },
   "outputs": [],
   "source": [
    "try:\n",
    "    import xml.etree.cElementTree as ET\n",
    "except ImportError:\n",
    "    import xml.etree.ElementTree as ET\n",
    "\n",
    "import numpy as np\n",
    "import pandas as pd\n",
    "\n",
    "### CONSTANTS\n",
    "PATH_STEP1 = '/home/jaum/PG/pg/Final_Output/step1/stats/'\n",
    "UNBIASED_ACC_RESULTS_FILE = 'step1_stats_unbiased_f1_results.xml'\n",
    "NORMAL_ACC_RESULTS_FILE = 'step1_stats_normal_f1_results.xml'\n",
    "\n",
    "CONFIG_TAG = 'config'\n",
    "SCORE_TAG = 'score'\n",
    "CLF_TAG = 'classifier'\n",
    "\n",
    "KNN_TAG = 'KNeighborsClassifier(n_neighbors=1)'\n",
    "RF_TAG = 'RandomForestClassifier(random_state=1010)'\n",
    "SVM_TAG = 'SVC(random_state=1010)'"
   ]
  },
  {
   "cell_type": "code",
   "execution_count": 2,
   "metadata": {
    "collapsed": true
   },
   "outputs": [],
   "source": [
    "### METHODS NEEDED\n",
    "\n",
    "#tag = classifier\n",
    "#key_attr = config\n",
    "#ret_attr = score\n",
    "def parse_unique_tag(file_in,tag,key_attr,ret_attr):\n",
    "    \n",
    "    unique_tags = []\n",
    "    for elem in file_in.iter(tag):\n",
    "        if elem.attrib[key_attr[0]] == key_attr[1]:\n",
    "            unique_tags.append(float(elem.attrib[ret_attr]))\n",
    "    return unique_tags"
   ]
  },
  {
   "cell_type": "code",
   "execution_count": 3,
   "metadata": {
    "collapsed": true
   },
   "outputs": [],
   "source": [
    "#NORMAL_CVS\n",
    "normal_file = ET.parse(PATH_STEP1 + NORMAL_ACC_RESULTS_FILE)\n",
    "\n",
    "knn_normal_score = np.mean(parse_unique_tag(normal_file, CLF_TAG, (CONFIG_TAG, KNN_TAG), SCORE_TAG))\n",
    "rf_normal_score = np.mean(parse_unique_tag(normal_file, CLF_TAG, (CONFIG_TAG, RF_TAG), SCORE_TAG))\n",
    "svm_normal_score = np.mean(parse_unique_tag(normal_file, CLF_TAG, (CONFIG_TAG, SVM_TAG), SCORE_TAG))\n"
   ]
  },
  {
   "cell_type": "code",
   "execution_count": 4,
   "metadata": {
    "collapsed": true
   },
   "outputs": [],
   "source": [
    "#UNBIASED CVS\n",
    "unbiased_file = ET.parse(PATH_STEP1 + UNBIASED_ACC_RESULTS_FILE)\n",
    "\n",
    "knn_unbiased_score = np.mean(parse_unique_tag(unbiased_file, CLF_TAG, (CONFIG_TAG, KNN_TAG), SCORE_TAG))\n",
    "rf_unbiased_score = np.mean(parse_unique_tag(unbiased_file, CLF_TAG, (CONFIG_TAG, RF_TAG), SCORE_TAG))\n",
    "svm_unbiased_score = np.mean(parse_unique_tag(unbiased_file, CLF_TAG, (CONFIG_TAG, SVM_TAG), SCORE_TAG))\n"
   ]
  },
  {
   "cell_type": "code",
   "execution_count": 5,
   "metadata": {},
   "outputs": [
    {
     "data": {
      "text/html": [
       "<div>\n",
       "<style>\n",
       "    .dataframe thead tr:only-child th {\n",
       "        text-align: right;\n",
       "    }\n",
       "\n",
       "    .dataframe thead th {\n",
       "        text-align: left;\n",
       "    }\n",
       "\n",
       "    .dataframe tbody tr th {\n",
       "        vertical-align: top;\n",
       "    }\n",
       "</style>\n",
       "<table border=\"1\" class=\"dataframe\">\n",
       "  <thead>\n",
       "    <tr style=\"text-align: right;\">\n",
       "      <th></th>\n",
       "      <th>Normal_F1</th>\n",
       "      <th>Unbiased_F1</th>\n",
       "    </tr>\n",
       "  </thead>\n",
       "  <tbody>\n",
       "    <tr>\n",
       "      <th>KNeighborsClassifier(n_neighbors=1)</th>\n",
       "      <td>0.758446</td>\n",
       "      <td>0.293669</td>\n",
       "    </tr>\n",
       "    <tr>\n",
       "      <th>RandomForestClassifier(random_state=1010)</th>\n",
       "      <td>0.964969</td>\n",
       "      <td>0.550658</td>\n",
       "    </tr>\n",
       "    <tr>\n",
       "      <th>SVC(random_state=1010)</th>\n",
       "      <td>0.070601</td>\n",
       "      <td>0.020537</td>\n",
       "    </tr>\n",
       "  </tbody>\n",
       "</table>\n",
       "</div>"
      ],
      "text/plain": [
       "                                           Normal_F1  Unbiased_F1\n",
       "KNeighborsClassifier(n_neighbors=1)         0.758446     0.293669\n",
       "RandomForestClassifier(random_state=1010)   0.964969     0.550658\n",
       "SVC(random_state=1010)                      0.070601     0.020537"
      ]
     },
     "execution_count": 5,
     "metadata": {},
     "output_type": "execute_result"
    }
   ],
   "source": [
    "#SEETING UP THE DATAFRAME\n",
    "knn_scores = pd.Series({'Normal_F1': knn_normal_score,\n",
    "                        'Unbiased_F1': knn_unbiased_score})\n",
    "rf_scores = pd.Series({'Normal_F1': rf_normal_score,\n",
    "                       'Unbiased_F1': rf_unbiased_score})\n",
    "svm_scores = pd.Series({'Normal_F1': svm_normal_score,\n",
    "                        'Unbiased_F1': svm_unbiased_score})\n",
    "\n",
    "step1_df = pd.DataFrame([knn_scores, rf_scores, svm_scores], index = [KNN_TAG, RF_TAG, SVM_TAG])\n",
    "step1_df"
   ]
  },
  {
   "cell_type": "code",
   "execution_count": null,
   "metadata": {
    "collapsed": true
   },
   "outputs": [],
   "source": []
  }
 ],
 "metadata": {
  "kernelspec": {
   "display_name": "Python [default]",
   "language": "python",
   "name": "python2"
  },
  "language_info": {
   "codemirror_mode": {
    "name": "ipython",
    "version": 2
   },
   "file_extension": ".py",
   "mimetype": "text/x-python",
   "name": "python",
   "nbconvert_exporter": "python",
   "pygments_lexer": "ipython2",
   "version": "2.7.13"
  }
 },
 "nbformat": 4,
 "nbformat_minor": 2
}
