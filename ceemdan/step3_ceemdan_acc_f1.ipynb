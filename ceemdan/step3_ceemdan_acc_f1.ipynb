{
 "cells": [
  {
   "cell_type": "code",
   "execution_count": 9,
   "metadata": {
    "collapsed": true
   },
   "outputs": [],
   "source": [
    "try:\n",
    "    import xml.etree.cElementTree as ET\n",
    "except ImportError:\n",
    "    import xml.etree.ElementTree as ET\n",
    "\n",
    "import numpy as np\n",
    "import pandas as pd\n",
    "\n",
    "# INPUT CONSTANTS\n",
    "STEP_TAG = 'step3'\n",
    "EXT_MODEL_TAG = 'ceemdan'\n",
    "PATH_STEP3 = '/home/jaum/PG/pg/Final_Output/step3/ceemdan/'\n",
    "# SCORE TAGS\n",
    "SCORE_ACC_TAG = 'acc'#acc or f1\n",
    "SCORE_F1_TAG = 'f1'\n",
    "# CONSTANTS FROM CV CONFIG\n",
    "CV_TAG = 'cv'\n",
    "CV_TYPE_NORMAL_TAG = 'normal'\n",
    "CV_TYPE_UNBIASED_TAG = 'unbiased'\n",
    "CV_MODE_NESTED_TAG = 'nested'\n",
    "# CLF TAGS\n",
    "CLF_KNN_TAG = 'knn'\n",
    "CLF_RF_TAG = 'rf'\n",
    "CLF_SVM_TAG = 'svm'\n",
    "#\n",
    "XML_TAG = '.xml'\n",
    "RESULTS_TAG = 'results'\n",
    "XML_SCORE_TAG = 'mean_score'\n",
    "#tags\n",
    "NN_TAG = 'Normal_Nested_{0}'\n",
    "UN_TAG = 'Unbiased_Nested_{0}'"
   ]
  },
  {
   "cell_type": "code",
   "execution_count": 10,
   "metadata": {
    "collapsed": true
   },
   "outputs": [],
   "source": [
    "def parse_unique_tag(file_in,tag,ret_attr):\n",
    "\n",
    "    unique_tags = []\n",
    "    for elem in file_in.iter(tag):\n",
    "        return (float(elem.attrib[ret_attr]))\n",
    "\n",
    "def get_classifier_files_path(clf_tag, score_tag):\n",
    "    # files names\n",
    "    nn_file = '{0}_{1}_{2}_{3}_{4}_{5}_{6}{7}'.format(STEP_TAG, EXT_MODEL_TAG, CV_TYPE_NORMAL_TAG,\n",
    "                                                             CV_MODE_NESTED_TAG, clf_tag, score_tag, RESULTS_TAG, XML_TAG)\n",
    "    un_file = '{0}_{1}_{2}_{3}_{4}_{5}_{6}{7}'.format(STEP_TAG, EXT_MODEL_TAG, CV_TYPE_UNBIASED_TAG,\n",
    "                                                           CV_MODE_NESTED_TAG, clf_tag, score_tag, RESULTS_TAG, XML_TAG)\n",
    "    # files path\n",
    "    file_path = '{0}{1}/'.format(PATH_STEP3, score_tag)\n",
    "    \n",
    "    return file_path + nn_file, file_path + un_file\n",
    "\n",
    "def get_classifier_scores(clf_tag, score_tag):\n",
    "    files_path = get_classifier_files_path(clf_tag, score_tag)\n",
    "    \n",
    "    clf_scores = []\n",
    "    for file_path in files_path:\n",
    "        file_iter = ET.parse(file_path)\n",
    "        clf_scores.append(parse_unique_tag(file_iter, CV_TAG, XML_SCORE_TAG))\n",
    "    \n",
    "    return clf_scores\n",
    "\n",
    "def get_df(clf_tags, score_tag):\n",
    "    ss_index = [NN_TAG, UN_TAG]\n",
    "    ss_index = [tag.format(score_tag.title()) for tag in ss_index]\n",
    "    \n",
    "    clf_scores_ss = []\n",
    "    for clf_tag in clf_tags:\n",
    "        clf_scores = get_classifier_scores(clf_tag, score_tag)\n",
    "        clf_scores_ss.append(pd.Series(clf_scores, index=ss_index))\n",
    "    \n",
    "    return pd.DataFrame([clf_ss for clf_ss in clf_scores_ss], index= ['Grid_KNN', 'Grid_RandomForest', 'Grid_SVM'])\n",
    "    "
   ]
  },
  {
   "cell_type": "code",
   "execution_count": 11,
   "metadata": {},
   "outputs": [
    {
     "data": {
      "text/html": [
       "<div>\n",
       "<style>\n",
       "    .dataframe thead tr:only-child th {\n",
       "        text-align: right;\n",
       "    }\n",
       "\n",
       "    .dataframe thead th {\n",
       "        text-align: left;\n",
       "    }\n",
       "\n",
       "    .dataframe tbody tr th {\n",
       "        vertical-align: top;\n",
       "    }\n",
       "</style>\n",
       "<table border=\"1\" class=\"dataframe\">\n",
       "  <thead>\n",
       "    <tr style=\"text-align: right;\">\n",
       "      <th></th>\n",
       "      <th>Normal_Nested_Acc</th>\n",
       "      <th>Unbiased_Nested_Acc</th>\n",
       "    </tr>\n",
       "  </thead>\n",
       "  <tbody>\n",
       "    <tr>\n",
       "      <th>Grid_KNN</th>\n",
       "      <td>0.993815</td>\n",
       "      <td>0.738147</td>\n",
       "    </tr>\n",
       "    <tr>\n",
       "      <th>Grid_RandomForest</th>\n",
       "      <td>0.998482</td>\n",
       "      <td>0.888796</td>\n",
       "    </tr>\n",
       "    <tr>\n",
       "      <th>Grid_SVM</th>\n",
       "      <td>0.973402</td>\n",
       "      <td>0.756061</td>\n",
       "    </tr>\n",
       "  </tbody>\n",
       "</table>\n",
       "</div>"
      ],
      "text/plain": [
       "                   Normal_Nested_Acc  Unbiased_Nested_Acc\n",
       "Grid_KNN                    0.993815             0.738147\n",
       "Grid_RandomForest           0.998482             0.888796\n",
       "Grid_SVM                    0.973402             0.756061"
      ]
     },
     "execution_count": 11,
     "metadata": {},
     "output_type": "execute_result"
    }
   ],
   "source": [
    "# STEP3 Results for score ACCURACY using the CEEMDAN as feature extraction model\n",
    "get_df([CLF_KNN_TAG, CLF_RF_TAG, CLF_SVM_TAG], SCORE_ACC_TAG)"
   ]
  },
  {
   "cell_type": "code",
   "execution_count": 12,
   "metadata": {},
   "outputs": [
    {
     "data": {
      "text/html": [
       "<div>\n",
       "<style>\n",
       "    .dataframe thead tr:only-child th {\n",
       "        text-align: right;\n",
       "    }\n",
       "\n",
       "    .dataframe thead th {\n",
       "        text-align: left;\n",
       "    }\n",
       "\n",
       "    .dataframe tbody tr th {\n",
       "        vertical-align: top;\n",
       "    }\n",
       "</style>\n",
       "<table border=\"1\" class=\"dataframe\">\n",
       "  <thead>\n",
       "    <tr style=\"text-align: right;\">\n",
       "      <th></th>\n",
       "      <th>Normal_Nested_F1</th>\n",
       "      <th>Unbiased_Nested_F1</th>\n",
       "    </tr>\n",
       "  </thead>\n",
       "  <tbody>\n",
       "    <tr>\n",
       "      <th>Grid_KNN</th>\n",
       "      <td>0.991198</td>\n",
       "      <td>0.481510</td>\n",
       "    </tr>\n",
       "    <tr>\n",
       "      <th>Grid_RandomForest</th>\n",
       "      <td>0.997891</td>\n",
       "      <td>0.725242</td>\n",
       "    </tr>\n",
       "    <tr>\n",
       "      <th>Grid_SVM</th>\n",
       "      <td>0.971509</td>\n",
       "      <td>0.533182</td>\n",
       "    </tr>\n",
       "  </tbody>\n",
       "</table>\n",
       "</div>"
      ],
      "text/plain": [
       "                   Normal_Nested_F1  Unbiased_Nested_F1\n",
       "Grid_KNN                   0.991198            0.481510\n",
       "Grid_RandomForest          0.997891            0.725242\n",
       "Grid_SVM                   0.971509            0.533182"
      ]
     },
     "execution_count": 12,
     "metadata": {},
     "output_type": "execute_result"
    }
   ],
   "source": [
    "# STEP3 Results for score F1_MACRO using the CEEMDAN as feature extraction model\n",
    "get_df([CLF_KNN_TAG, CLF_RF_TAG, CLF_SVM_TAG], SCORE_F1_TAG)"
   ]
  },
  {
   "cell_type": "code",
   "execution_count": null,
   "metadata": {
    "collapsed": true
   },
   "outputs": [],
   "source": []
  }
 ],
 "metadata": {
  "kernelspec": {
   "display_name": "Python [default]",
   "language": "python",
   "name": "python2"
  },
  "language_info": {
   "codemirror_mode": {
    "name": "ipython",
    "version": 2
   },
   "file_extension": ".py",
   "mimetype": "text/x-python",
   "name": "python",
   "nbconvert_exporter": "python",
   "pygments_lexer": "ipython2",
   "version": "2.7.13"
  }
 },
 "nbformat": 4,
 "nbformat_minor": 2
}
