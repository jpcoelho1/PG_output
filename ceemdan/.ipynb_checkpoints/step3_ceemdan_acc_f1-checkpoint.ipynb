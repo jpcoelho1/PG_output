{
 "cells": [
  {
   "cell_type": "code",
   "execution_count": 4,
   "metadata": {
    "collapsed": true
   },
   "outputs": [],
   "source": [
    "try:\n",
    "    import xml.etree.cElementTree as ET\n",
    "except ImportError:\n",
    "    import xml.etree.ElementTree as ET\n",
    "\n",
    "import numpy as np\n",
    "import pandas as pd\n",
    "\n",
    "# INPUT CONSTANTS\n",
    "STEP_TAG = 'step3'\n",
    "EXT_MODEL_TAG = 'ceemdan'\n",
    "PATH_STEP3 = '/home/jaum/PG/pg/Final_Output/step3/ceemdan/'\n",
    "# SCORE TAGS\n",
    "SCORE_ACC_TAG = 'acc'#acc or f1\n",
    "SCORE_F1_TAG = 'f1'\n",
    "# CONSTANTS FROM CV CONFIG\n",
    "CV_TAG = 'cv'\n",
    "CV_TYPE_NORMAL_TAG = 'normal'\n",
    "CV_TYPE_UNBIASED_TAG = 'unbiased'\n",
    "CV_MODE_NESTED_TAG = 'nested'\n",
    "# CLF TAGS\n",
    "CLF_KNN_TAG = 'knn'\n",
    "CLF_RF_TAG = 'rf'\n",
    "CLF_SVM_TAG = 'svm'\n",
    "#\n",
    "XML_TAG = '.xml'\n",
    "RESULTS_TAG = 'results'\n",
    "XML_SCORE_TAG = 'mean_score'\n",
    "#tags\n",
    "NN_TAG = 'Normal_Nested_{0}'\n",
    "UN_TAG = 'Unbiased_Nested_{0}'"
   ]
  },
  {
   "cell_type": "code",
   "execution_count": 7,
   "metadata": {
    "collapsed": true
   },
   "outputs": [],
   "source": [
    "def parse_unique_tag(file_in,tag,ret_attr):\n",
    "\n",
    "    unique_tags = []\n",
    "    for elem in file_in.iter(tag):\n",
    "        return (float(elem.attrib[ret_attr]))\n",
    "\n",
    "def get_classifier_files_path(clf_tag, score_tag):\n",
    "    # files names\n",
    "    nn_file = '{0}_{1}_{2}_{3}_{4}_{5}_{6}{7}'.format(STEP_TAG, EXT_MODEL_TAG, CV_TYPE_NORMAL_TAG,\n",
    "                                                             CV_MODE_NESTED_TAG, clf_tag, score_tag, RESULTS_TAG, XML_TAG)\n",
    "    un_file = '{0}_{1}_{2}_{3}_{4}_{5}_{6}{7}'.format(STEP_TAG, EXT_MODEL_TAG, CV_TYPE_UNBIASED_TAG,\n",
    "                                                           CV_MODE_NESTED_TAG, clf_tag, score_tag, RESULTS_TAG, XML_TAG)\n",
    "    # files path\n",
    "    file_path = '{0}{1}/'.format(PATH_STEP3, score_tag)\n",
    "    \n",
    "    return file_path + nn_file, file_path + un_file\n",
    "\n",
    "def get_classifier_scores(clf_tag, score_tag):\n",
    "    files_path = get_classifier_files_path(clf_tag, score_tag)\n",
    "    \n",
    "    clf_scores = []\n",
    "    for file_path in files_path:\n",
    "        file_iter = ET.parse(file_path)\n",
    "        clf_scores.append(parse_unique_tag(file_iter, CV_TAG, XML_SCORE_TAG))\n",
    "    \n",
    "    return clf_scores\n",
    "\n",
    "def get_df(clf_tags, score_tag):\n",
    "    ss_index = [NN_TAG, UN_TAG]\n",
    "    ss_index = [tag.format(score_tag.title()) for tag in ss_index]\n",
    "    \n",
    "    clf_scores_ss = []\n",
    "    for clf_tag in clf_tags:\n",
    "        clf_scores = get_classifier_scores(clf_tag, score_tag)\n",
    "        clf_scores_ss.append(pd.Series(clf_scores, index=ss_index))\n",
    "    \n",
    "    return pd.DataFrame([clf_ss for clf_ss in clf_scores_ss], index= ['Grid_KNN', 'Grid_RandomForest', 'Grid_SVM'])\n",
    "    "
   ]
  },
  {
   "cell_type": "code",
   "execution_count": 8,
   "metadata": {},
   "outputs": [
    {
     "ename": "IOError",
     "evalue": "[Errno 2] No such file or directory: '/home/jaum/PG/pg/Final_Output/step3/ceemdan/acc/step2_ceemdan_normal_nested_knn_acc_results.xml'",
     "output_type": "error",
     "traceback": [
      "\u001b[0;31m---------------------------------------------------------------------------\u001b[0m",
      "\u001b[0;31mIOError\u001b[0m                                   Traceback (most recent call last)",
      "\u001b[0;32m<ipython-input-8-31df01ab06fc>\u001b[0m in \u001b[0;36m<module>\u001b[0;34m()\u001b[0m\n\u001b[1;32m      1\u001b[0m \u001b[0;31m# STEP3 Results for score ACCURACY using the CEEMDAN as feature extraction model\u001b[0m\u001b[0;34m\u001b[0m\u001b[0;34m\u001b[0m\u001b[0m\n\u001b[0;32m----> 2\u001b[0;31m \u001b[0mget_df\u001b[0m\u001b[0;34m(\u001b[0m\u001b[0;34m[\u001b[0m\u001b[0mCLF_KNN_TAG\u001b[0m\u001b[0;34m,\u001b[0m \u001b[0mCLF_RF_TAG\u001b[0m\u001b[0;34m,\u001b[0m \u001b[0mCLF_SVM_TAG\u001b[0m\u001b[0;34m]\u001b[0m\u001b[0;34m,\u001b[0m \u001b[0mSCORE_ACC_TAG\u001b[0m\u001b[0;34m)\u001b[0m\u001b[0;34m\u001b[0m\u001b[0m\n\u001b[0m",
      "\u001b[0;32m<ipython-input-7-f55051e9b133>\u001b[0m in \u001b[0;36mget_df\u001b[0;34m(clf_tags, score_tag)\u001b[0m\n\u001b[1;32m     32\u001b[0m     \u001b[0mclf_scores_ss\u001b[0m \u001b[0;34m=\u001b[0m \u001b[0;34m[\u001b[0m\u001b[0;34m]\u001b[0m\u001b[0;34m\u001b[0m\u001b[0m\n\u001b[1;32m     33\u001b[0m     \u001b[0;32mfor\u001b[0m \u001b[0mclf_tag\u001b[0m \u001b[0;32min\u001b[0m \u001b[0mclf_tags\u001b[0m\u001b[0;34m:\u001b[0m\u001b[0;34m\u001b[0m\u001b[0m\n\u001b[0;32m---> 34\u001b[0;31m         \u001b[0mclf_scores\u001b[0m \u001b[0;34m=\u001b[0m \u001b[0mget_classifier_scores\u001b[0m\u001b[0;34m(\u001b[0m\u001b[0mclf_tag\u001b[0m\u001b[0;34m,\u001b[0m \u001b[0mscore_tag\u001b[0m\u001b[0;34m)\u001b[0m\u001b[0;34m\u001b[0m\u001b[0m\n\u001b[0m\u001b[1;32m     35\u001b[0m         \u001b[0mclf_scores_ss\u001b[0m\u001b[0;34m.\u001b[0m\u001b[0mappend\u001b[0m\u001b[0;34m(\u001b[0m\u001b[0mpd\u001b[0m\u001b[0;34m.\u001b[0m\u001b[0mSeries\u001b[0m\u001b[0;34m(\u001b[0m\u001b[0mclf_scores\u001b[0m\u001b[0;34m,\u001b[0m \u001b[0mindex\u001b[0m\u001b[0;34m=\u001b[0m\u001b[0mss_index\u001b[0m\u001b[0;34m)\u001b[0m\u001b[0;34m)\u001b[0m\u001b[0;34m\u001b[0m\u001b[0m\n\u001b[1;32m     36\u001b[0m \u001b[0;34m\u001b[0m\u001b[0m\n",
      "\u001b[0;32m<ipython-input-7-f55051e9b133>\u001b[0m in \u001b[0;36mget_classifier_scores\u001b[0;34m(clf_tag, score_tag)\u001b[0m\n\u001b[1;32m     21\u001b[0m     \u001b[0mclf_scores\u001b[0m \u001b[0;34m=\u001b[0m \u001b[0;34m[\u001b[0m\u001b[0;34m]\u001b[0m\u001b[0;34m\u001b[0m\u001b[0m\n\u001b[1;32m     22\u001b[0m     \u001b[0;32mfor\u001b[0m \u001b[0mfile_path\u001b[0m \u001b[0;32min\u001b[0m \u001b[0mfiles_path\u001b[0m\u001b[0;34m:\u001b[0m\u001b[0;34m\u001b[0m\u001b[0m\n\u001b[0;32m---> 23\u001b[0;31m         \u001b[0mfile_iter\u001b[0m \u001b[0;34m=\u001b[0m \u001b[0mET\u001b[0m\u001b[0;34m.\u001b[0m\u001b[0mparse\u001b[0m\u001b[0;34m(\u001b[0m\u001b[0mfile_path\u001b[0m\u001b[0;34m)\u001b[0m\u001b[0;34m\u001b[0m\u001b[0m\n\u001b[0m\u001b[1;32m     24\u001b[0m         \u001b[0mclf_scores\u001b[0m\u001b[0;34m.\u001b[0m\u001b[0mappend\u001b[0m\u001b[0;34m(\u001b[0m\u001b[0mparse_unique_tag\u001b[0m\u001b[0;34m(\u001b[0m\u001b[0mfile_iter\u001b[0m\u001b[0;34m,\u001b[0m \u001b[0mCV_TAG\u001b[0m\u001b[0;34m,\u001b[0m \u001b[0mXML_SCORE_TAG\u001b[0m\u001b[0;34m)\u001b[0m\u001b[0;34m)\u001b[0m\u001b[0;34m\u001b[0m\u001b[0m\n\u001b[1;32m     25\u001b[0m \u001b[0;34m\u001b[0m\u001b[0m\n",
      "\u001b[0;32m<string>\u001b[0m in \u001b[0;36mparse\u001b[0;34m(source, parser)\u001b[0m\n",
      "\u001b[0;32m<string>\u001b[0m in \u001b[0;36mparse\u001b[0;34m(self, source, parser)\u001b[0m\n",
      "\u001b[0;31mIOError\u001b[0m: [Errno 2] No such file or directory: '/home/jaum/PG/pg/Final_Output/step3/ceemdan/acc/step2_ceemdan_normal_nested_knn_acc_results.xml'"
     ]
    }
   ],
   "source": [
    "# STEP3 Results for score ACCURACY using the CEEMDAN as feature extraction model\n",
    "get_df([CLF_KNN_TAG, CLF_RF_TAG, CLF_SVM_TAG], SCORE_ACC_TAG)"
   ]
  },
  {
   "cell_type": "code",
   "execution_count": null,
   "metadata": {
    "collapsed": true
   },
   "outputs": [],
   "source": []
  }
 ],
 "metadata": {
  "kernelspec": {
   "display_name": "Python [default]",
   "language": "python",
   "name": "python2"
  },
  "language_info": {
   "codemirror_mode": {
    "name": "ipython",
    "version": 2
   },
   "file_extension": ".py",
   "mimetype": "text/x-python",
   "name": "python",
   "nbconvert_exporter": "python",
   "pygments_lexer": "ipython2",
   "version": "2.7.13"
  }
 },
 "nbformat": 4,
 "nbformat_minor": 2
}
